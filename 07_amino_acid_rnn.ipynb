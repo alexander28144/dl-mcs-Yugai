{
 "cells": [
  {
   "cell_type": "markdown",
   "metadata": {},
   "source": [
    "## Аминокислотные последовательности антител"
   ]
  },
  {
   "cell_type": "markdown",
   "metadata": {},
   "source": [
    "<img src=\"https://i0.wp.com/www.blopig.com/blog/wp-content/uploads/2013/07/Antibody1.png?ssl=1\" style=\"background:white\" width=\"600\"/>"
   ]
  },
  {
   "cell_type": "markdown",
   "metadata": {},
   "source": [
    "Как и любые белки́, [антитела](https://ru.wikipedia.org/wiki/%D0%90%D0%BD%D1%82%D0%B8%D1%82%D0%B5%D0%BB%D0%B0) состоят из [аминокислот](https://shorturl.at/Wc6V4), соединённых пептидными связями.\n",
    "\n",
    "Каждой аминокислоте соответствует однобуквенный код (A - аланин, C - цистеин, D - аспартат, и т.д.), поэтому мы можем компактно записывать первичную структуру белков (то есть просто цепочку аминокислот) в виде строк.\n",
    "\n",
    "Сегодня нам предстоит решить две задачи:\n",
    "1. Обучить модель-классификатор, позволяющую по аминокислотной последовательности понять, из какого животного было получено антитело\n",
    "2. Обучить модель-генератор новых антител с условием на биологический вид"
   ]
  },
  {
   "cell_type": "markdown",
   "metadata": {},
   "source": [
    "#### Подготовим данные"
   ]
  },
  {
   "cell_type": "markdown",
   "metadata": {},
   "source": [
    "В нашем наборе данных присутствуют антитела (точнее - небольшие фрагменты тяжелых цепей антител, VH-домены, непосредственно участвующие в связывании инородных молекул - антигенов), полученные из образцов пяти биологических видов: человек, макака-резус, мышь, кролик и верблюд."
   ]
  },
  {
   "cell_type": "code",
   "execution_count": 130,
   "metadata": {},
   "outputs": [
    {
     "data": {
      "text/html": [
       "<div>\n",
       "<style scoped>\n",
       "    .dataframe tbody tr th:only-of-type {\n",
       "        vertical-align: middle;\n",
       "    }\n",
       "\n",
       "    .dataframe tbody tr th {\n",
       "        vertical-align: top;\n",
       "    }\n",
       "\n",
       "    .dataframe thead th {\n",
       "        text-align: right;\n",
       "    }\n",
       "</style>\n",
       "<table border=\"1\" class=\"dataframe\">\n",
       "  <thead>\n",
       "    <tr style=\"text-align: right;\">\n",
       "      <th></th>\n",
       "      <th>sequence</th>\n",
       "      <th>species</th>\n",
       "    </tr>\n",
       "  </thead>\n",
       "  <tbody>\n",
       "    <tr>\n",
       "      <th>3993</th>\n",
       "      <td>QVTLKESGPALVTPTQTLTLTCTFSGFSLSTSGMRVSWIRQPPGKA...</td>\n",
       "      <td>Rhesus</td>\n",
       "    </tr>\n",
       "    <tr>\n",
       "      <th>3737</th>\n",
       "      <td>QMQLQESGPGPVTPSETLSLTCAVSGASTRSFCWGWTRQSPGNGLE...</td>\n",
       "      <td>Rhesus</td>\n",
       "    </tr>\n",
       "    <tr>\n",
       "      <th>2870</th>\n",
       "      <td>SVKVSCKASGYTFTSYYIHWVRQAPGQGLEWMGMINPSAGITTYAQ...</td>\n",
       "      <td>Mouse</td>\n",
       "    </tr>\n",
       "    <tr>\n",
       "      <th>558</th>\n",
       "      <td>QVQLQQPGAELVMPGASVKLSCKASGYTFTSYWMHWVKQRPGQGLE...</td>\n",
       "      <td>Human</td>\n",
       "    </tr>\n",
       "    <tr>\n",
       "      <th>3197</th>\n",
       "      <td>QLQLQESGPGLVKPSENLSLTCAVSGGSIRSNWWSWIRPHPGKGLE...</td>\n",
       "      <td>Rhesus</td>\n",
       "    </tr>\n",
       "    <tr>\n",
       "      <th>1694</th>\n",
       "      <td>HVQLVESGGGSVQAGGSLRLSCAVSGYTRSPYCMGWFRQAPGKERE...</td>\n",
       "      <td>Camel</td>\n",
       "    </tr>\n",
       "    <tr>\n",
       "      <th>2317</th>\n",
       "      <td>SVKVSCKASGYTFTVSFIHWVRQAPGHGLEWVGMIDPSRGASQSAV...</td>\n",
       "      <td>Mouse</td>\n",
       "    </tr>\n",
       "    <tr>\n",
       "      <th>4774</th>\n",
       "      <td>QEQLVESGGGLVQPEGSLTLTCTASGFSFSSSYFMCWVRQAPGKGL...</td>\n",
       "      <td>Rabbit</td>\n",
       "    </tr>\n",
       "    <tr>\n",
       "      <th>3344</th>\n",
       "      <td>QLQLQESGPGLVKPSETLSLTCAVSCGSISSGYGWSWFRQPPGKGL...</td>\n",
       "      <td>Rhesus</td>\n",
       "    </tr>\n",
       "    <tr>\n",
       "      <th>2993</th>\n",
       "      <td>SVKVSCKASGYTFSSHAMHWVRQAPGQRLEWMGWINADNGNTKYSQ...</td>\n",
       "      <td>Mouse</td>\n",
       "    </tr>\n",
       "  </tbody>\n",
       "</table>\n",
       "</div>"
      ],
      "text/plain": [
       "                                               sequence species\n",
       "3993  QVTLKESGPALVTPTQTLTLTCTFSGFSLSTSGMRVSWIRQPPGKA...  Rhesus\n",
       "3737  QMQLQESGPGPVTPSETLSLTCAVSGASTRSFCWGWTRQSPGNGLE...  Rhesus\n",
       "2870  SVKVSCKASGYTFTSYYIHWVRQAPGQGLEWMGMINPSAGITTYAQ...   Mouse\n",
       "558   QVQLQQPGAELVMPGASVKLSCKASGYTFTSYWMHWVKQRPGQGLE...   Human\n",
       "3197  QLQLQESGPGLVKPSENLSLTCAVSGGSIRSNWWSWIRPHPGKGLE...  Rhesus\n",
       "1694  HVQLVESGGGSVQAGGSLRLSCAVSGYTRSPYCMGWFRQAPGKERE...   Camel\n",
       "2317  SVKVSCKASGYTFTVSFIHWVRQAPGHGLEWVGMIDPSRGASQSAV...   Mouse\n",
       "4774  QEQLVESGGGLVQPEGSLTLTCTASGFSFSSSYFMCWVRQAPGKGL...  Rabbit\n",
       "3344  QLQLQESGPGLVKPSETLSLTCAVSCGSISSGYGWSWFRQPPGKGL...  Rhesus\n",
       "2993  SVKVSCKASGYTFSSHAMHWVRQAPGQRLEWMGWINADNGNTKYSQ...   Mouse"
      ]
     },
     "execution_count": 130,
     "metadata": {},
     "output_type": "execute_result"
    }
   ],
   "source": [
    "import pandas as pd\n",
    "\n",
    "antibodies = pd.read_csv(\"antibodies.csv\").sample(frac=1.0)\n",
    "antibodies.head(10)"
   ]
  },
  {
   "cell_type": "markdown",
   "metadata": {},
   "source": [
    "Создадим словари для аминокислот, специальных токенов и биологических видов:"
   ]
  },
  {
   "cell_type": "code",
   "execution_count": 131,
   "metadata": {},
   "outputs": [
    {
     "data": {
      "text/plain": [
       "{'Camel': 0, 'Human': 1, 'Mouse': 2, 'Rabbit': 3, 'Rhesus': 4}"
      ]
     },
     "execution_count": 131,
     "metadata": {},
     "output_type": "execute_result"
    }
   ],
   "source": [
    "SPECIAL_TOKENS = \"_?\\n\"\n",
    "AMINO_ACIDS = \"ACDEFGHIKLMNPQRSTVWYX\"\n",
    "VOCAB = {char: i for i, char in enumerate(SPECIAL_TOKENS + AMINO_ACIDS)}\n",
    "SPECIES = {name: i for i, name in enumerate(sorted(antibodies[\"species\"].unique()))}\n",
    "SPECIES"
   ]
  },
  {
   "cell_type": "code",
   "execution_count": 132,
   "metadata": {},
   "outputs": [
    {
     "name": "stdout",
     "output_type": "stream",
     "text": [
      "Train size:  4500\n",
      "Test size:  500\n"
     ]
    }
   ],
   "source": [
    "import torch\n",
    "from torch import Tensor, nn\n",
    "from torch.nn import functional as F\n",
    "from torch.utils.data import DataLoader, Dataset, random_split\n",
    "from typing import Type\n",
    "\n",
    "\n",
    "#torch.manual_seed(42)\n",
    "class AntibodiesDataset(Dataset):\n",
    "    def __init__(self, df: pd.DataFrame) -> None:\n",
    "        self.sequences = [\n",
    "            [1] + [VOCAB[char] for char in s] + [2] for s in df[\"sequence\"]\n",
    "        ]\n",
    "        self.labels = [SPECIES[label] for label in df[\"species\"]]\n",
    "\n",
    "    def __getitem__(self, index: int) -> tuple[list[int], int]:\n",
    "        return self.sequences[index], self.labels[index]\n",
    "\n",
    "    def __len__(self) -> int:\n",
    "        return len(self.sequences)\n",
    "\n",
    "    @property\n",
    "    def vocab_size(self) -> int:\n",
    "        return len(VOCAB) # Сколько символов ----------------------------------------------------------------------------------------------------------------------------\n",
    "\n",
    "\n",
    "        \n",
    "    @staticmethod\n",
    "    def collate_fn(batch: list[tuple[list[int], int]]) -> tuple[Tensor, Tensor]:\n",
    "        encoded, lang_ids = zip(*batch)\n",
    "        max_len = max(map(len, encoded))\n",
    "        x = torch.zeros((len(encoded), max_len), dtype=int)\n",
    "        for i, seq in enumerate(encoded):\n",
    "            x[i, : len(seq)] = torch.tensor(seq)\n",
    "\n",
    "        return x, torch.tensor(list(lang_ids))\n",
    "\n",
    "\n",
    "labels = sorted(antibodies[\"species\"].unique())\n",
    "dataset = AntibodiesDataset(antibodies)\n",
    "train_dataset, test_dataset = random_split(\n",
    "    dataset, [4500, 500], torch.Generator().manual_seed(42)\n",
    ")\n",
    "print(\"Train size: \", len(train_dataset))\n",
    "print(\"Test size: \", len(test_dataset))"
   ]
  },
  {
   "cell_type": "code",
   "execution_count": 133,
   "metadata": {},
   "outputs": [],
   "source": [
    "train_loader = DataLoader(\n",
    "    train_dataset, batch_size=32, shuffle=True, collate_fn=dataset.collate_fn\n",
    ")\n",
    "test_loader = DataLoader(\n",
    "    test_dataset, batch_size=32, shuffle=False, collate_fn=dataset.collate_fn\n",
    ")"
   ]
  },
  {
   "cell_type": "markdown",
   "metadata": {},
   "source": [
    "#### Задание 1 (6 баллов). Классификация антител по биологическим видам"
   ]
  },
  {
   "cell_type": "markdown",
   "metadata": {},
   "source": [
    "Мы начнём с нашей рекуррентной ячейки с последней практики:"
   ]
  },
  {
   "cell_type": "code",
   "execution_count": 134,
   "metadata": {},
   "outputs": [],
   "source": [
    "class RNNCell(nn.Module):\n",
    "    \"\"\"\n",
    "    (x_{t}, h_{t-1}) -> h_{t}\n",
    "    \"\"\"\n",
    "\n",
    "    def __init__(self, input_dim: int, hidden_dim: int) -> None:\n",
    "        super().__init__()\n",
    "        self.linear = nn.Linear(input_dim + hidden_dim, hidden_dim)\n",
    "\n",
    "    def forward(self, x: Tensor, h: Tensor) -> Tensor:\n",
    "        # x: B x input_dim\n",
    "        # h: B x hidden_dim\n",
    "        h = torch.cat([x, h], dim=1)\n",
    "        h = self.linear(h)\n",
    "        return F.tanh(h)"
   ]
  },
  {
   "cell_type": "markdown",
   "metadata": {},
   "source": [
    "**1.1. (1 балл)** Реализуйте архитектуру модели, которая по входной последовательности будет давать вероятностное распределение над биологическими видами.\n",
    "Она даже немного проще, чем модель для генерации: линейный блок-классификатор мы применяем только к последнему скрытому состоянию (когда вся последовательность обработана).\n",
    "\n",
    "**1.2. (2 балла)** Обучите модель в течение 10-50 эпох, постройте графики точности классифкации для обучающей и тестовой выборок.\n",
    "\n",
    "**1.3. (3 балла)** Реализуйте другой вид рекуррентной ячейки (GRU или LSTM, см. практику), обучите модель на его основе, выведите графики точности. Как изменилась точность модели и скорость обучения?\n",
    "\n",
    "\n",
    "Указание: используйте небольшие модели, с размером скрытого слоя 64"
   ]
  },
  {
   "cell_type": "markdown",
   "metadata": {},
   "source": [
    "### Задание 1.1"
   ]
  },
  {
   "cell_type": "code",
   "execution_count": 135,
   "metadata": {},
   "outputs": [],
   "source": [
    "class RNN(nn.Module):\n",
    "    def __init__(\n",
    "        self, block: Type[nn.Module], vocab_size: int, hidden_dim: int = 64, n_classes: int = 5\n",
    "    ) -> None: \n",
    "        super().__init__()\n",
    "        self.embed = nn.Embedding(vocab_size, hidden_dim)\n",
    "        self.init_h = nn.Parameter(data=torch.randn(1, hidden_dim))\n",
    "        self.rnn = block(hidden_dim, hidden_dim)\n",
    "        self.fc1 = nn.Linear(hidden_dim, n_classes)\n",
    "        self.act = nn.ReLU()\n",
    "       \n",
    "    def forward(self, x: Tensor) -> Tensor: \n",
    "        B, T = x.shape\n",
    "        x = self.embed(x)  # B x T x hidden_dim\n",
    "        h = self.init_h.expand((B, -1)) # B x hidden_dim\n",
    "\n",
    "        for t in range(T):\n",
    "            xt = x[:, t, :]\n",
    "            h = self.rnn.forward(xt, h)  # B x hidden\n",
    "        out = self.act(self.fc1(h))\n",
    "    \n",
    "        # lm_head: B x T x hidden -> B x T x V\n",
    "        return out.softmax(dim=1)"
   ]
  },
  {
   "cell_type": "code",
   "execution_count": 136,
   "metadata": {},
   "outputs": [
    {
     "data": {
      "text/plain": [
       "torch.Size([32, 5])"
      ]
     },
     "execution_count": 136,
     "metadata": {},
     "output_type": "execute_result"
    }
   ],
   "source": [
    "hidden_dim = 32\n",
    "model = RNN(\n",
    "    vocab_size=dataset.vocab_size, block=RNNCell,\n",
    "    hidden_dim=hidden_dim,\n",
    ")\n",
    "tokens, labels = next(iter(train_loader))\n",
    "model.forward(tokens).shape"
   ]
  },
  {
   "cell_type": "code",
   "execution_count": 137,
   "metadata": {},
   "outputs": [
    {
     "name": "stderr",
     "output_type": "stream",
     "text": [
      "GPU available: True (cuda), used: True\n",
      "TPU available: False, using: 0 TPU cores\n",
      "HPU available: False, using: 0 HPUs\n"
     ]
    }
   ],
   "source": [
    "import torchmetrics\n",
    "import lightning as L\n",
    "import torch\n",
    "from torch import nn, optim\n",
    "from lightning.pytorch.callbacks import Callback\n",
    "from lightning.pytorch.callbacks import EarlyStopping, ModelCheckpoint\n",
    "from typing import cast\n",
    "\n",
    "from lightning.pytorch.utilities.types import STEP_OUTPUT\n",
    "\n",
    "from lightning.pytorch.callbacks import EarlyStopping, ModelCheckpoint\n",
    "\n",
    "class Lit(L.LightningModule):\n",
    "    def __init__(self, model):\n",
    "        super().__init__()\n",
    "        self.model = model\n",
    "        self.train_acc = torchmetrics.Accuracy(task=\"multiclass\", num_classes=5)\n",
    "        self.val_acc = torchmetrics.Accuracy(task=\"multiclass\", num_classes=5)\n",
    "\n",
    "    def forward(self, x):\n",
    "        return self.model(x)\n",
    "\n",
    "    def training_step(self, batch, batch_idx):\n",
    "        x, y = batch\n",
    "        probs = self(x)\n",
    "        loss = nn.functional.cross_entropy(probs, y)\n",
    "        self.train_acc(probs, y)\n",
    "        self.log(\"train_loss\", loss, on_step=False, on_epoch=True, prog_bar=True)\n",
    "        self.log(\"train_acc\", self.train_acc, on_step=False, on_epoch=True, prog_bar=True)\n",
    "        return loss\n",
    "\n",
    "    def validation_step(self, batch, batch_idx):\n",
    "        x, y = batch\n",
    "        probs = self(x)\n",
    "        loss = nn.functional.cross_entropy(probs, y)\n",
    "        self.val_acc(probs, y)\n",
    "        self.log(\"val_loss\", loss, on_epoch=True, prog_bar=True)\n",
    "        self.log(\"val_acc\", self.val_acc, on_epoch=True, prog_bar=True)\n",
    "\n",
    "    def configure_optimizers(self):\n",
    "        return torch.optim.Adam(self.parameters(), lr=1e-3)\n",
    "\n",
    "\n",
    "from aim.pytorch_lightning import AimLogger\n",
    "\n",
    "model = RNN(vocab_size=len(VOCAB), hidden_dim=64,block=RNNCell, n_classes=5)\n",
    "\n",
    "lit_module = Lit(model=model)\n",
    "\n",
    "logger=AimLogger(\"logs\", experiment='RNN11')\n",
    "\n",
    "trainer = L.Trainer(\n",
    "    accelerator=\"auto\",\n",
    "    max_epochs=50,\n",
    "    log_every_n_steps=10,\n",
    "    enable_progress_bar=True,\n",
    "    logger=logger\n",
    ")\n"
   ]
  },
  {
   "cell_type": "markdown",
   "metadata": {},
   "source": [
    "### Задание 1.2"
   ]
  },
  {
   "cell_type": "code",
   "execution_count": 138,
   "metadata": {},
   "outputs": [
    {
     "name": "stderr",
     "output_type": "stream",
     "text": [
      "LOCAL_RANK: 0 - CUDA_VISIBLE_DEVICES: [0]\n",
      "\n",
      "  | Name      | Type               | Params | Mode \n",
      "---------------------------------------------------------\n",
      "0 | model     | RNN                | 10.2 K | train\n",
      "1 | train_acc | MulticlassAccuracy | 0      | train\n",
      "2 | val_acc   | MulticlassAccuracy | 0      | train\n",
      "---------------------------------------------------------\n",
      "10.2 K    Trainable params\n",
      "0         Non-trainable params\n",
      "10.2 K    Total params\n",
      "0.041     Total estimated model params size (MB)\n",
      "8         Modules in train mode\n",
      "0         Modules in eval mode\n"
     ]
    },
    {
     "data": {
      "application/vnd.jupyter.widget-view+json": {
       "model_id": "cb5663f378fb4bcbb6c1991f41941d3b",
       "version_major": 2,
       "version_minor": 0
      },
      "text/plain": [
       "Sanity Checking: |          | 0/? [00:00<?, ?it/s]"
      ]
     },
     "metadata": {},
     "output_type": "display_data"
    },
    {
     "name": "stderr",
     "output_type": "stream",
     "text": [
      "/home/sachaiugai/anaconda3/lib/python3.12/site-packages/lightning/pytorch/trainer/connectors/data_connector.py:424: The 'val_dataloader' does not have many workers which may be a bottleneck. Consider increasing the value of the `num_workers` argument` to `num_workers=7` in the `DataLoader` to improve performance.\n",
      "/home/sachaiugai/anaconda3/lib/python3.12/site-packages/lightning/pytorch/trainer/connectors/data_connector.py:424: The 'train_dataloader' does not have many workers which may be a bottleneck. Consider increasing the value of the `num_workers` argument` to `num_workers=7` in the `DataLoader` to improve performance.\n"
     ]
    },
    {
     "data": {
      "application/vnd.jupyter.widget-view+json": {
       "model_id": "190d5f20170843608083fd691cd62a9e",
       "version_major": 2,
       "version_minor": 0
      },
      "text/plain": [
       "Training: |          | 0/? [00:00<?, ?it/s]"
      ]
     },
     "metadata": {},
     "output_type": "display_data"
    },
    {
     "data": {
      "application/vnd.jupyter.widget-view+json": {
       "model_id": "6dc44aa085964fed8d211f611844b3a1",
       "version_major": 2,
       "version_minor": 0
      },
      "text/plain": [
       "Validation: |          | 0/? [00:00<?, ?it/s]"
      ]
     },
     "metadata": {},
     "output_type": "display_data"
    },
    {
     "data": {
      "application/vnd.jupyter.widget-view+json": {
       "model_id": "e76a5eab59be442393ff6db6857097b9",
       "version_major": 2,
       "version_minor": 0
      },
      "text/plain": [
       "Validation: |          | 0/? [00:00<?, ?it/s]"
      ]
     },
     "metadata": {},
     "output_type": "display_data"
    },
    {
     "data": {
      "application/vnd.jupyter.widget-view+json": {
       "model_id": "f7816308b72f42b6b90bc293ff2dfcca",
       "version_major": 2,
       "version_minor": 0
      },
      "text/plain": [
       "Validation: |          | 0/? [00:00<?, ?it/s]"
      ]
     },
     "metadata": {},
     "output_type": "display_data"
    },
    {
     "data": {
      "application/vnd.jupyter.widget-view+json": {
       "model_id": "3b4e43926f08429ab7dc520089455f29",
       "version_major": 2,
       "version_minor": 0
      },
      "text/plain": [
       "Validation: |          | 0/? [00:00<?, ?it/s]"
      ]
     },
     "metadata": {},
     "output_type": "display_data"
    },
    {
     "data": {
      "application/vnd.jupyter.widget-view+json": {
       "model_id": "8c7afd8953474213ba274c29c5348e79",
       "version_major": 2,
       "version_minor": 0
      },
      "text/plain": [
       "Validation: |          | 0/? [00:00<?, ?it/s]"
      ]
     },
     "metadata": {},
     "output_type": "display_data"
    },
    {
     "data": {
      "application/vnd.jupyter.widget-view+json": {
       "model_id": "37634a3d67134501a426b43b49156577",
       "version_major": 2,
       "version_minor": 0
      },
      "text/plain": [
       "Validation: |          | 0/? [00:00<?, ?it/s]"
      ]
     },
     "metadata": {},
     "output_type": "display_data"
    },
    {
     "data": {
      "application/vnd.jupyter.widget-view+json": {
       "model_id": "e7debe51807446a98418e090ba6040e0",
       "version_major": 2,
       "version_minor": 0
      },
      "text/plain": [
       "Validation: |          | 0/? [00:00<?, ?it/s]"
      ]
     },
     "metadata": {},
     "output_type": "display_data"
    },
    {
     "data": {
      "application/vnd.jupyter.widget-view+json": {
       "model_id": "0f6e93b65dfa441e87c4e6c77906a613",
       "version_major": 2,
       "version_minor": 0
      },
      "text/plain": [
       "Validation: |          | 0/? [00:00<?, ?it/s]"
      ]
     },
     "metadata": {},
     "output_type": "display_data"
    },
    {
     "data": {
      "application/vnd.jupyter.widget-view+json": {
       "model_id": "b1600f1cc7034a44bf0c518caff48008",
       "version_major": 2,
       "version_minor": 0
      },
      "text/plain": [
       "Validation: |          | 0/? [00:00<?, ?it/s]"
      ]
     },
     "metadata": {},
     "output_type": "display_data"
    },
    {
     "data": {
      "application/vnd.jupyter.widget-view+json": {
       "model_id": "2e27258d3b4b495e950aec8fd7c3bb73",
       "version_major": 2,
       "version_minor": 0
      },
      "text/plain": [
       "Validation: |          | 0/? [00:00<?, ?it/s]"
      ]
     },
     "metadata": {},
     "output_type": "display_data"
    },
    {
     "data": {
      "application/vnd.jupyter.widget-view+json": {
       "model_id": "fc06faf40a8d4ee696b5529a59c4ea64",
       "version_major": 2,
       "version_minor": 0
      },
      "text/plain": [
       "Validation: |          | 0/? [00:00<?, ?it/s]"
      ]
     },
     "metadata": {},
     "output_type": "display_data"
    },
    {
     "data": {
      "application/vnd.jupyter.widget-view+json": {
       "model_id": "fa1ee54d139f4590b0fe1d66e7a6f40e",
       "version_major": 2,
       "version_minor": 0
      },
      "text/plain": [
       "Validation: |          | 0/? [00:00<?, ?it/s]"
      ]
     },
     "metadata": {},
     "output_type": "display_data"
    },
    {
     "data": {
      "application/vnd.jupyter.widget-view+json": {
       "model_id": "011cbd8635ef4f39877690fcf263f5f9",
       "version_major": 2,
       "version_minor": 0
      },
      "text/plain": [
       "Validation: |          | 0/? [00:00<?, ?it/s]"
      ]
     },
     "metadata": {},
     "output_type": "display_data"
    },
    {
     "data": {
      "application/vnd.jupyter.widget-view+json": {
       "model_id": "1c978626c31d45f18499e5a2881c936b",
       "version_major": 2,
       "version_minor": 0
      },
      "text/plain": [
       "Validation: |          | 0/? [00:00<?, ?it/s]"
      ]
     },
     "metadata": {},
     "output_type": "display_data"
    },
    {
     "data": {
      "application/vnd.jupyter.widget-view+json": {
       "model_id": "0d4bc1e9789a4f3e98de8fd628fa2794",
       "version_major": 2,
       "version_minor": 0
      },
      "text/plain": [
       "Validation: |          | 0/? [00:00<?, ?it/s]"
      ]
     },
     "metadata": {},
     "output_type": "display_data"
    },
    {
     "data": {
      "application/vnd.jupyter.widget-view+json": {
       "model_id": "b2f9362b4d554fde81d3518bff48f298",
       "version_major": 2,
       "version_minor": 0
      },
      "text/plain": [
       "Validation: |          | 0/? [00:00<?, ?it/s]"
      ]
     },
     "metadata": {},
     "output_type": "display_data"
    },
    {
     "data": {
      "application/vnd.jupyter.widget-view+json": {
       "model_id": "39416dfb502844f1800a4c1151ddc9df",
       "version_major": 2,
       "version_minor": 0
      },
      "text/plain": [
       "Validation: |          | 0/? [00:00<?, ?it/s]"
      ]
     },
     "metadata": {},
     "output_type": "display_data"
    },
    {
     "data": {
      "application/vnd.jupyter.widget-view+json": {
       "model_id": "6cd57d3470d044c8babbd2fb496bc3b4",
       "version_major": 2,
       "version_minor": 0
      },
      "text/plain": [
       "Validation: |          | 0/? [00:00<?, ?it/s]"
      ]
     },
     "metadata": {},
     "output_type": "display_data"
    },
    {
     "data": {
      "application/vnd.jupyter.widget-view+json": {
       "model_id": "27965019ec57475f9f06851aa469de31",
       "version_major": 2,
       "version_minor": 0
      },
      "text/plain": [
       "Validation: |          | 0/? [00:00<?, ?it/s]"
      ]
     },
     "metadata": {},
     "output_type": "display_data"
    },
    {
     "data": {
      "application/vnd.jupyter.widget-view+json": {
       "model_id": "b2fcfcbda85c4a67a1427bf970e115ba",
       "version_major": 2,
       "version_minor": 0
      },
      "text/plain": [
       "Validation: |          | 0/? [00:00<?, ?it/s]"
      ]
     },
     "metadata": {},
     "output_type": "display_data"
    },
    {
     "data": {
      "application/vnd.jupyter.widget-view+json": {
       "model_id": "f9a217b026074d9fb8bde942df699dc4",
       "version_major": 2,
       "version_minor": 0
      },
      "text/plain": [
       "Validation: |          | 0/? [00:00<?, ?it/s]"
      ]
     },
     "metadata": {},
     "output_type": "display_data"
    },
    {
     "data": {
      "application/vnd.jupyter.widget-view+json": {
       "model_id": "e277e6f3fab048aaa71f4d7a8f9de10c",
       "version_major": 2,
       "version_minor": 0
      },
      "text/plain": [
       "Validation: |          | 0/? [00:00<?, ?it/s]"
      ]
     },
     "metadata": {},
     "output_type": "display_data"
    },
    {
     "data": {
      "application/vnd.jupyter.widget-view+json": {
       "model_id": "4394a7f1bb0c4a31be331de0ab0f0eb1",
       "version_major": 2,
       "version_minor": 0
      },
      "text/plain": [
       "Validation: |          | 0/? [00:00<?, ?it/s]"
      ]
     },
     "metadata": {},
     "output_type": "display_data"
    },
    {
     "data": {
      "application/vnd.jupyter.widget-view+json": {
       "model_id": "087b9f09d0ad43c795449182b7c662e4",
       "version_major": 2,
       "version_minor": 0
      },
      "text/plain": [
       "Validation: |          | 0/? [00:00<?, ?it/s]"
      ]
     },
     "metadata": {},
     "output_type": "display_data"
    },
    {
     "data": {
      "application/vnd.jupyter.widget-view+json": {
       "model_id": "8c2917e668e54163bb5dad1a63d22a4e",
       "version_major": 2,
       "version_minor": 0
      },
      "text/plain": [
       "Validation: |          | 0/? [00:00<?, ?it/s]"
      ]
     },
     "metadata": {},
     "output_type": "display_data"
    },
    {
     "data": {
      "application/vnd.jupyter.widget-view+json": {
       "model_id": "aed819ef26c94c66b1ca4cf9c0f905ed",
       "version_major": 2,
       "version_minor": 0
      },
      "text/plain": [
       "Validation: |          | 0/? [00:00<?, ?it/s]"
      ]
     },
     "metadata": {},
     "output_type": "display_data"
    },
    {
     "data": {
      "application/vnd.jupyter.widget-view+json": {
       "model_id": "ef213a6994964660b90625fdd7d76147",
       "version_major": 2,
       "version_minor": 0
      },
      "text/plain": [
       "Validation: |          | 0/? [00:00<?, ?it/s]"
      ]
     },
     "metadata": {},
     "output_type": "display_data"
    },
    {
     "data": {
      "application/vnd.jupyter.widget-view+json": {
       "model_id": "86c49143123b47a5ab39afd71e38646f",
       "version_major": 2,
       "version_minor": 0
      },
      "text/plain": [
       "Validation: |          | 0/? [00:00<?, ?it/s]"
      ]
     },
     "metadata": {},
     "output_type": "display_data"
    },
    {
     "data": {
      "application/vnd.jupyter.widget-view+json": {
       "model_id": "ab29db72933c4caa8016e601d65d5a0c",
       "version_major": 2,
       "version_minor": 0
      },
      "text/plain": [
       "Validation: |          | 0/? [00:00<?, ?it/s]"
      ]
     },
     "metadata": {},
     "output_type": "display_data"
    },
    {
     "data": {
      "application/vnd.jupyter.widget-view+json": {
       "model_id": "5cc52e2bbb9a4522991d9f911c2dc2fe",
       "version_major": 2,
       "version_minor": 0
      },
      "text/plain": [
       "Validation: |          | 0/? [00:00<?, ?it/s]"
      ]
     },
     "metadata": {},
     "output_type": "display_data"
    },
    {
     "data": {
      "application/vnd.jupyter.widget-view+json": {
       "model_id": "68f9d01316ff4515b8916e49e6370249",
       "version_major": 2,
       "version_minor": 0
      },
      "text/plain": [
       "Validation: |          | 0/? [00:00<?, ?it/s]"
      ]
     },
     "metadata": {},
     "output_type": "display_data"
    },
    {
     "data": {
      "application/vnd.jupyter.widget-view+json": {
       "model_id": "346831186ea54c4e9d2ebeb9a5832b5b",
       "version_major": 2,
       "version_minor": 0
      },
      "text/plain": [
       "Validation: |          | 0/? [00:00<?, ?it/s]"
      ]
     },
     "metadata": {},
     "output_type": "display_data"
    },
    {
     "data": {
      "application/vnd.jupyter.widget-view+json": {
       "model_id": "b4d88e1b06b249e18d7f3894295fb0db",
       "version_major": 2,
       "version_minor": 0
      },
      "text/plain": [
       "Validation: |          | 0/? [00:00<?, ?it/s]"
      ]
     },
     "metadata": {},
     "output_type": "display_data"
    },
    {
     "data": {
      "application/vnd.jupyter.widget-view+json": {
       "model_id": "7751bda18702465fb3468534462192f5",
       "version_major": 2,
       "version_minor": 0
      },
      "text/plain": [
       "Validation: |          | 0/? [00:00<?, ?it/s]"
      ]
     },
     "metadata": {},
     "output_type": "display_data"
    },
    {
     "data": {
      "application/vnd.jupyter.widget-view+json": {
       "model_id": "8db06934e3154c51b5d553122c6cd540",
       "version_major": 2,
       "version_minor": 0
      },
      "text/plain": [
       "Validation: |          | 0/? [00:00<?, ?it/s]"
      ]
     },
     "metadata": {},
     "output_type": "display_data"
    },
    {
     "data": {
      "application/vnd.jupyter.widget-view+json": {
       "model_id": "4f9cbfac50cc42d2be3b54ae7cd9acd3",
       "version_major": 2,
       "version_minor": 0
      },
      "text/plain": [
       "Validation: |          | 0/? [00:00<?, ?it/s]"
      ]
     },
     "metadata": {},
     "output_type": "display_data"
    },
    {
     "data": {
      "application/vnd.jupyter.widget-view+json": {
       "model_id": "b27c657b41f24c469f216275ce1ab007",
       "version_major": 2,
       "version_minor": 0
      },
      "text/plain": [
       "Validation: |          | 0/? [00:00<?, ?it/s]"
      ]
     },
     "metadata": {},
     "output_type": "display_data"
    },
    {
     "data": {
      "application/vnd.jupyter.widget-view+json": {
       "model_id": "3e400463a063449194269d070493fac1",
       "version_major": 2,
       "version_minor": 0
      },
      "text/plain": [
       "Validation: |          | 0/? [00:00<?, ?it/s]"
      ]
     },
     "metadata": {},
     "output_type": "display_data"
    },
    {
     "data": {
      "application/vnd.jupyter.widget-view+json": {
       "model_id": "c4954bd622044e77b527c1549fb70770",
       "version_major": 2,
       "version_minor": 0
      },
      "text/plain": [
       "Validation: |          | 0/? [00:00<?, ?it/s]"
      ]
     },
     "metadata": {},
     "output_type": "display_data"
    },
    {
     "data": {
      "application/vnd.jupyter.widget-view+json": {
       "model_id": "4c9897619de94bca8d323eb10206fe5f",
       "version_major": 2,
       "version_minor": 0
      },
      "text/plain": [
       "Validation: |          | 0/? [00:00<?, ?it/s]"
      ]
     },
     "metadata": {},
     "output_type": "display_data"
    },
    {
     "data": {
      "application/vnd.jupyter.widget-view+json": {
       "model_id": "f5307569d66c482b90b2d6916f85a47b",
       "version_major": 2,
       "version_minor": 0
      },
      "text/plain": [
       "Validation: |          | 0/? [00:00<?, ?it/s]"
      ]
     },
     "metadata": {},
     "output_type": "display_data"
    },
    {
     "data": {
      "application/vnd.jupyter.widget-view+json": {
       "model_id": "6928de088bf1498dab9de7c68ac5486e",
       "version_major": 2,
       "version_minor": 0
      },
      "text/plain": [
       "Validation: |          | 0/? [00:00<?, ?it/s]"
      ]
     },
     "metadata": {},
     "output_type": "display_data"
    },
    {
     "data": {
      "application/vnd.jupyter.widget-view+json": {
       "model_id": "ba0776de8fc84504b120cb1aacdebc2c",
       "version_major": 2,
       "version_minor": 0
      },
      "text/plain": [
       "Validation: |          | 0/? [00:00<?, ?it/s]"
      ]
     },
     "metadata": {},
     "output_type": "display_data"
    },
    {
     "data": {
      "application/vnd.jupyter.widget-view+json": {
       "model_id": "7783e4e7ff4c4f38b17a20857c2704d3",
       "version_major": 2,
       "version_minor": 0
      },
      "text/plain": [
       "Validation: |          | 0/? [00:00<?, ?it/s]"
      ]
     },
     "metadata": {},
     "output_type": "display_data"
    },
    {
     "data": {
      "application/vnd.jupyter.widget-view+json": {
       "model_id": "d959fd95936642b58b3caa30cb75aa71",
       "version_major": 2,
       "version_minor": 0
      },
      "text/plain": [
       "Validation: |          | 0/? [00:00<?, ?it/s]"
      ]
     },
     "metadata": {},
     "output_type": "display_data"
    },
    {
     "data": {
      "application/vnd.jupyter.widget-view+json": {
       "model_id": "39cd37f443164c81b85597ec310231c5",
       "version_major": 2,
       "version_minor": 0
      },
      "text/plain": [
       "Validation: |          | 0/? [00:00<?, ?it/s]"
      ]
     },
     "metadata": {},
     "output_type": "display_data"
    },
    {
     "data": {
      "application/vnd.jupyter.widget-view+json": {
       "model_id": "331a6a228675416ab0b51bd7abfcee31",
       "version_major": 2,
       "version_minor": 0
      },
      "text/plain": [
       "Validation: |          | 0/? [00:00<?, ?it/s]"
      ]
     },
     "metadata": {},
     "output_type": "display_data"
    },
    {
     "data": {
      "application/vnd.jupyter.widget-view+json": {
       "model_id": "5e7476874b1f449ebe6d6a7dac347ad6",
       "version_major": 2,
       "version_minor": 0
      },
      "text/plain": [
       "Validation: |          | 0/? [00:00<?, ?it/s]"
      ]
     },
     "metadata": {},
     "output_type": "display_data"
    },
    {
     "data": {
      "application/vnd.jupyter.widget-view+json": {
       "model_id": "fb9ab8f7a4254c44903966bc67aab46a",
       "version_major": 2,
       "version_minor": 0
      },
      "text/plain": [
       "Validation: |          | 0/? [00:00<?, ?it/s]"
      ]
     },
     "metadata": {},
     "output_type": "display_data"
    },
    {
     "data": {
      "application/vnd.jupyter.widget-view+json": {
       "model_id": "06fb3e3582ed4a6e9ad4bee9a54bccd1",
       "version_major": 2,
       "version_minor": 0
      },
      "text/plain": [
       "Validation: |          | 0/? [00:00<?, ?it/s]"
      ]
     },
     "metadata": {},
     "output_type": "display_data"
    },
    {
     "name": "stderr",
     "output_type": "stream",
     "text": [
      "`Trainer.fit` stopped: `max_epochs=50` reached.\n"
     ]
    }
   ],
   "source": [
    "trainer.fit(lit_module, train_loader, test_loader)"
   ]
  },
  {
   "cell_type": "markdown",
   "metadata": {},
   "source": [
    "![title](07RNN1.png)"
   ]
  },
  {
   "cell_type": "markdown",
   "metadata": {},
   "source": [
    "### Задание 1.3"
   ]
  },
  {
   "cell_type": "code",
   "execution_count": 139,
   "metadata": {},
   "outputs": [],
   "source": [
    "class GRUCell(nn.Module):\n",
    "   \n",
    "    def __init__(self, input_dim: int, hidden_dim: int) -> None:\n",
    "        super().__init__()\n",
    "        self.linear_z = nn.Linear(input_dim + hidden_dim, hidden_dim)\n",
    "        self.linear_r = nn.Linear(input_dim + hidden_dim, hidden_dim)\n",
    "        self.linear_h = nn.Linear(input_dim + hidden_dim, hidden_dim)\n",
    "        \n",
    "    def forward(self, x: Tensor, h: Tensor) -> Tensor:\n",
    "        # x: B x input_dim\n",
    "        # h: B x hidden_dim\n",
    "        z = torch.cat([x, h], dim=1)\n",
    "        z = self.linear_z(z)\n",
    "        z = F.sigmoid(z)\n",
    "        r = torch.cat([x, h], dim=1)\n",
    "        r = self.linear_r(r)\n",
    "        r = F.sigmoid(r)\n",
    "        h_ = torch.cat([r * h, x], dim=1)\n",
    "        h_ = self.linear_h(h_)\n",
    "        h_ = F.tanh(h_)\n",
    "        h = (1 - z) * h_ + z * h\n",
    "        return h"
   ]
  },
  {
   "cell_type": "code",
   "execution_count": 140,
   "metadata": {},
   "outputs": [
    {
     "name": "stderr",
     "output_type": "stream",
     "text": [
      "GPU available: True (cuda), used: True\n",
      "TPU available: False, using: 0 TPU cores\n",
      "HPU available: False, using: 0 HPUs\n"
     ]
    }
   ],
   "source": [
    "hidden_dim = 64\n",
    "\n",
    "modelGRU = RNN(\n",
    "    vocab_size=dataset.vocab_size, block=GRUCell,\n",
    "    hidden_dim=hidden_dim,\n",
    ")\n",
    "lit_moduleGRU = Lit(model=modelGRU)\n",
    "\n",
    "loggerGRU=AimLogger(\"logs\", experiment='GRU13')\n",
    "\n",
    "trainerGRU = L.Trainer(\n",
    "    accelerator=\"auto\",\n",
    "    max_epochs=50,\n",
    "    log_every_n_steps=10,\n",
    "    enable_progress_bar=True,\n",
    "    logger=loggerGRU\n",
    ")"
   ]
  },
  {
   "cell_type": "code",
   "execution_count": 141,
   "metadata": {},
   "outputs": [
    {
     "name": "stderr",
     "output_type": "stream",
     "text": [
      "LOCAL_RANK: 0 - CUDA_VISIBLE_DEVICES: [0]\n",
      "\n",
      "  | Name      | Type               | Params | Mode \n",
      "---------------------------------------------------------\n",
      "0 | model     | RNN                | 26.7 K | train\n",
      "1 | train_acc | MulticlassAccuracy | 0      | train\n",
      "2 | val_acc   | MulticlassAccuracy | 0      | train\n",
      "---------------------------------------------------------\n",
      "26.7 K    Trainable params\n",
      "0         Non-trainable params\n",
      "26.7 K    Total params\n",
      "0.107     Total estimated model params size (MB)\n",
      "10        Modules in train mode\n",
      "0         Modules in eval mode\n"
     ]
    },
    {
     "data": {
      "application/vnd.jupyter.widget-view+json": {
       "model_id": "62f7c0264ee24825ac1f009ae9bd8b40",
       "version_major": 2,
       "version_minor": 0
      },
      "text/plain": [
       "Sanity Checking: |          | 0/? [00:00<?, ?it/s]"
      ]
     },
     "metadata": {},
     "output_type": "display_data"
    },
    {
     "name": "stderr",
     "output_type": "stream",
     "text": [
      "/home/sachaiugai/anaconda3/lib/python3.12/site-packages/lightning/pytorch/trainer/connectors/data_connector.py:424: The 'val_dataloader' does not have many workers which may be a bottleneck. Consider increasing the value of the `num_workers` argument` to `num_workers=7` in the `DataLoader` to improve performance.\n",
      "/home/sachaiugai/anaconda3/lib/python3.12/site-packages/lightning/pytorch/trainer/connectors/data_connector.py:424: The 'train_dataloader' does not have many workers which may be a bottleneck. Consider increasing the value of the `num_workers` argument` to `num_workers=7` in the `DataLoader` to improve performance.\n"
     ]
    },
    {
     "data": {
      "application/vnd.jupyter.widget-view+json": {
       "model_id": "a69e250698034feb939f4c852dc7ffcb",
       "version_major": 2,
       "version_minor": 0
      },
      "text/plain": [
       "Training: |          | 0/? [00:00<?, ?it/s]"
      ]
     },
     "metadata": {},
     "output_type": "display_data"
    },
    {
     "data": {
      "application/vnd.jupyter.widget-view+json": {
       "model_id": "11a363352ba94174ae6e22a7077a19a5",
       "version_major": 2,
       "version_minor": 0
      },
      "text/plain": [
       "Validation: |          | 0/? [00:00<?, ?it/s]"
      ]
     },
     "metadata": {},
     "output_type": "display_data"
    },
    {
     "data": {
      "application/vnd.jupyter.widget-view+json": {
       "model_id": "77003560286e42658d1e5f257607957a",
       "version_major": 2,
       "version_minor": 0
      },
      "text/plain": [
       "Validation: |          | 0/? [00:00<?, ?it/s]"
      ]
     },
     "metadata": {},
     "output_type": "display_data"
    },
    {
     "data": {
      "application/vnd.jupyter.widget-view+json": {
       "model_id": "574e53d800ba449198c7e9ee8b308051",
       "version_major": 2,
       "version_minor": 0
      },
      "text/plain": [
       "Validation: |          | 0/? [00:00<?, ?it/s]"
      ]
     },
     "metadata": {},
     "output_type": "display_data"
    },
    {
     "data": {
      "application/vnd.jupyter.widget-view+json": {
       "model_id": "b72ef5da4b6943d88ade1626627dec31",
       "version_major": 2,
       "version_minor": 0
      },
      "text/plain": [
       "Validation: |          | 0/? [00:00<?, ?it/s]"
      ]
     },
     "metadata": {},
     "output_type": "display_data"
    },
    {
     "data": {
      "application/vnd.jupyter.widget-view+json": {
       "model_id": "4aed1ad6a6604cfc9b288608ba90c89e",
       "version_major": 2,
       "version_minor": 0
      },
      "text/plain": [
       "Validation: |          | 0/? [00:00<?, ?it/s]"
      ]
     },
     "metadata": {},
     "output_type": "display_data"
    },
    {
     "data": {
      "application/vnd.jupyter.widget-view+json": {
       "model_id": "709ada3b4d4345639b837cc550e17879",
       "version_major": 2,
       "version_minor": 0
      },
      "text/plain": [
       "Validation: |          | 0/? [00:00<?, ?it/s]"
      ]
     },
     "metadata": {},
     "output_type": "display_data"
    },
    {
     "data": {
      "application/vnd.jupyter.widget-view+json": {
       "model_id": "6db74eb39e5f409e97eab8de02983a5d",
       "version_major": 2,
       "version_minor": 0
      },
      "text/plain": [
       "Validation: |          | 0/? [00:00<?, ?it/s]"
      ]
     },
     "metadata": {},
     "output_type": "display_data"
    },
    {
     "data": {
      "application/vnd.jupyter.widget-view+json": {
       "model_id": "33f1ff4600314a958d32abb188b81bf0",
       "version_major": 2,
       "version_minor": 0
      },
      "text/plain": [
       "Validation: |          | 0/? [00:00<?, ?it/s]"
      ]
     },
     "metadata": {},
     "output_type": "display_data"
    },
    {
     "data": {
      "application/vnd.jupyter.widget-view+json": {
       "model_id": "327633a10b884b9394647f5f168b7b9c",
       "version_major": 2,
       "version_minor": 0
      },
      "text/plain": [
       "Validation: |          | 0/? [00:00<?, ?it/s]"
      ]
     },
     "metadata": {},
     "output_type": "display_data"
    },
    {
     "data": {
      "application/vnd.jupyter.widget-view+json": {
       "model_id": "fe9ebd84bec24258a082d88bb7ac6e73",
       "version_major": 2,
       "version_minor": 0
      },
      "text/plain": [
       "Validation: |          | 0/? [00:00<?, ?it/s]"
      ]
     },
     "metadata": {},
     "output_type": "display_data"
    },
    {
     "data": {
      "application/vnd.jupyter.widget-view+json": {
       "model_id": "17d93e88628043f1ac4a9e498da5e75f",
       "version_major": 2,
       "version_minor": 0
      },
      "text/plain": [
       "Validation: |          | 0/? [00:00<?, ?it/s]"
      ]
     },
     "metadata": {},
     "output_type": "display_data"
    },
    {
     "data": {
      "application/vnd.jupyter.widget-view+json": {
       "model_id": "efd2b71a0ce4446d8a886e6746eaba6a",
       "version_major": 2,
       "version_minor": 0
      },
      "text/plain": [
       "Validation: |          | 0/? [00:00<?, ?it/s]"
      ]
     },
     "metadata": {},
     "output_type": "display_data"
    },
    {
     "data": {
      "application/vnd.jupyter.widget-view+json": {
       "model_id": "5f0ac96c32c543079f6e00f5efcca3d5",
       "version_major": 2,
       "version_minor": 0
      },
      "text/plain": [
       "Validation: |          | 0/? [00:00<?, ?it/s]"
      ]
     },
     "metadata": {},
     "output_type": "display_data"
    },
    {
     "data": {
      "application/vnd.jupyter.widget-view+json": {
       "model_id": "5add27b4c6074ecd96d29dbfad71d233",
       "version_major": 2,
       "version_minor": 0
      },
      "text/plain": [
       "Validation: |          | 0/? [00:00<?, ?it/s]"
      ]
     },
     "metadata": {},
     "output_type": "display_data"
    },
    {
     "data": {
      "application/vnd.jupyter.widget-view+json": {
       "model_id": "8368ff554678469bb8a3c4dbff614e2f",
       "version_major": 2,
       "version_minor": 0
      },
      "text/plain": [
       "Validation: |          | 0/? [00:00<?, ?it/s]"
      ]
     },
     "metadata": {},
     "output_type": "display_data"
    },
    {
     "data": {
      "application/vnd.jupyter.widget-view+json": {
       "model_id": "2b59e04c059848018e64aa82f0fca144",
       "version_major": 2,
       "version_minor": 0
      },
      "text/plain": [
       "Validation: |          | 0/? [00:00<?, ?it/s]"
      ]
     },
     "metadata": {},
     "output_type": "display_data"
    },
    {
     "data": {
      "application/vnd.jupyter.widget-view+json": {
       "model_id": "6a129c2d74fe4c2b857b48d0a226cc10",
       "version_major": 2,
       "version_minor": 0
      },
      "text/plain": [
       "Validation: |          | 0/? [00:00<?, ?it/s]"
      ]
     },
     "metadata": {},
     "output_type": "display_data"
    },
    {
     "data": {
      "application/vnd.jupyter.widget-view+json": {
       "model_id": "92f42d7396b9445c8b16d9e2777a5745",
       "version_major": 2,
       "version_minor": 0
      },
      "text/plain": [
       "Validation: |          | 0/? [00:00<?, ?it/s]"
      ]
     },
     "metadata": {},
     "output_type": "display_data"
    },
    {
     "data": {
      "application/vnd.jupyter.widget-view+json": {
       "model_id": "d89bcf145ba54fe483bc855e515272ba",
       "version_major": 2,
       "version_minor": 0
      },
      "text/plain": [
       "Validation: |          | 0/? [00:00<?, ?it/s]"
      ]
     },
     "metadata": {},
     "output_type": "display_data"
    },
    {
     "data": {
      "application/vnd.jupyter.widget-view+json": {
       "model_id": "8f0f3559fd2e419183937a2aa4eba157",
       "version_major": 2,
       "version_minor": 0
      },
      "text/plain": [
       "Validation: |          | 0/? [00:00<?, ?it/s]"
      ]
     },
     "metadata": {},
     "output_type": "display_data"
    },
    {
     "data": {
      "application/vnd.jupyter.widget-view+json": {
       "model_id": "02ef7c25fdc5491ca04d41f12d4c7797",
       "version_major": 2,
       "version_minor": 0
      },
      "text/plain": [
       "Validation: |          | 0/? [00:00<?, ?it/s]"
      ]
     },
     "metadata": {},
     "output_type": "display_data"
    },
    {
     "data": {
      "application/vnd.jupyter.widget-view+json": {
       "model_id": "5c1dc24f90804b64b349f474d634a2c4",
       "version_major": 2,
       "version_minor": 0
      },
      "text/plain": [
       "Validation: |          | 0/? [00:00<?, ?it/s]"
      ]
     },
     "metadata": {},
     "output_type": "display_data"
    },
    {
     "data": {
      "application/vnd.jupyter.widget-view+json": {
       "model_id": "6be8661f03444d62861ca124f389e048",
       "version_major": 2,
       "version_minor": 0
      },
      "text/plain": [
       "Validation: |          | 0/? [00:00<?, ?it/s]"
      ]
     },
     "metadata": {},
     "output_type": "display_data"
    },
    {
     "data": {
      "application/vnd.jupyter.widget-view+json": {
       "model_id": "a205f663e3624718b5b958c72a7e2b80",
       "version_major": 2,
       "version_minor": 0
      },
      "text/plain": [
       "Validation: |          | 0/? [00:00<?, ?it/s]"
      ]
     },
     "metadata": {},
     "output_type": "display_data"
    },
    {
     "data": {
      "application/vnd.jupyter.widget-view+json": {
       "model_id": "be334404315945f7afe8fa7db8733ff1",
       "version_major": 2,
       "version_minor": 0
      },
      "text/plain": [
       "Validation: |          | 0/? [00:00<?, ?it/s]"
      ]
     },
     "metadata": {},
     "output_type": "display_data"
    },
    {
     "data": {
      "application/vnd.jupyter.widget-view+json": {
       "model_id": "f86ada0305394a999bf308103ac84b8a",
       "version_major": 2,
       "version_minor": 0
      },
      "text/plain": [
       "Validation: |          | 0/? [00:00<?, ?it/s]"
      ]
     },
     "metadata": {},
     "output_type": "display_data"
    },
    {
     "data": {
      "application/vnd.jupyter.widget-view+json": {
       "model_id": "863c9be484354b348b0cf178bceb6fef",
       "version_major": 2,
       "version_minor": 0
      },
      "text/plain": [
       "Validation: |          | 0/? [00:00<?, ?it/s]"
      ]
     },
     "metadata": {},
     "output_type": "display_data"
    },
    {
     "data": {
      "application/vnd.jupyter.widget-view+json": {
       "model_id": "46c4cb4785c547eebb38fc82e106a3c9",
       "version_major": 2,
       "version_minor": 0
      },
      "text/plain": [
       "Validation: |          | 0/? [00:00<?, ?it/s]"
      ]
     },
     "metadata": {},
     "output_type": "display_data"
    },
    {
     "data": {
      "application/vnd.jupyter.widget-view+json": {
       "model_id": "2ec93d8eb4644a4f8ee38d7d8409bf0f",
       "version_major": 2,
       "version_minor": 0
      },
      "text/plain": [
       "Validation: |          | 0/? [00:00<?, ?it/s]"
      ]
     },
     "metadata": {},
     "output_type": "display_data"
    },
    {
     "data": {
      "application/vnd.jupyter.widget-view+json": {
       "model_id": "0149957f6963436da3aec8e31f631bed",
       "version_major": 2,
       "version_minor": 0
      },
      "text/plain": [
       "Validation: |          | 0/? [00:00<?, ?it/s]"
      ]
     },
     "metadata": {},
     "output_type": "display_data"
    },
    {
     "data": {
      "application/vnd.jupyter.widget-view+json": {
       "model_id": "86e65b2f60454e529299de857c5f9054",
       "version_major": 2,
       "version_minor": 0
      },
      "text/plain": [
       "Validation: |          | 0/? [00:00<?, ?it/s]"
      ]
     },
     "metadata": {},
     "output_type": "display_data"
    },
    {
     "data": {
      "application/vnd.jupyter.widget-view+json": {
       "model_id": "082ce4c89882489ca87a832b5587177a",
       "version_major": 2,
       "version_minor": 0
      },
      "text/plain": [
       "Validation: |          | 0/? [00:00<?, ?it/s]"
      ]
     },
     "metadata": {},
     "output_type": "display_data"
    },
    {
     "data": {
      "application/vnd.jupyter.widget-view+json": {
       "model_id": "0ff6c60cbf62427b8fb6db7ff873a350",
       "version_major": 2,
       "version_minor": 0
      },
      "text/plain": [
       "Validation: |          | 0/? [00:00<?, ?it/s]"
      ]
     },
     "metadata": {},
     "output_type": "display_data"
    },
    {
     "data": {
      "application/vnd.jupyter.widget-view+json": {
       "model_id": "bebf4c7138ef4f28a07b867d6886f309",
       "version_major": 2,
       "version_minor": 0
      },
      "text/plain": [
       "Validation: |          | 0/? [00:00<?, ?it/s]"
      ]
     },
     "metadata": {},
     "output_type": "display_data"
    },
    {
     "data": {
      "application/vnd.jupyter.widget-view+json": {
       "model_id": "8b3eab24d827430083a4ecf9a0b19b2e",
       "version_major": 2,
       "version_minor": 0
      },
      "text/plain": [
       "Validation: |          | 0/? [00:00<?, ?it/s]"
      ]
     },
     "metadata": {},
     "output_type": "display_data"
    },
    {
     "data": {
      "application/vnd.jupyter.widget-view+json": {
       "model_id": "a15a0d0ea23c41d1ad1ed715b51fd80d",
       "version_major": 2,
       "version_minor": 0
      },
      "text/plain": [
       "Validation: |          | 0/? [00:00<?, ?it/s]"
      ]
     },
     "metadata": {},
     "output_type": "display_data"
    },
    {
     "data": {
      "application/vnd.jupyter.widget-view+json": {
       "model_id": "a39f65c360354e97ab7fac0e3e75f751",
       "version_major": 2,
       "version_minor": 0
      },
      "text/plain": [
       "Validation: |          | 0/? [00:00<?, ?it/s]"
      ]
     },
     "metadata": {},
     "output_type": "display_data"
    },
    {
     "data": {
      "application/vnd.jupyter.widget-view+json": {
       "model_id": "c364d274376f4fe3afddadb8a3c69d62",
       "version_major": 2,
       "version_minor": 0
      },
      "text/plain": [
       "Validation: |          | 0/? [00:00<?, ?it/s]"
      ]
     },
     "metadata": {},
     "output_type": "display_data"
    },
    {
     "data": {
      "application/vnd.jupyter.widget-view+json": {
       "model_id": "a946b66e49374a57bf101511d7846cb2",
       "version_major": 2,
       "version_minor": 0
      },
      "text/plain": [
       "Validation: |          | 0/? [00:00<?, ?it/s]"
      ]
     },
     "metadata": {},
     "output_type": "display_data"
    },
    {
     "data": {
      "application/vnd.jupyter.widget-view+json": {
       "model_id": "73747ae9a09544c385d23bcd782e93e8",
       "version_major": 2,
       "version_minor": 0
      },
      "text/plain": [
       "Validation: |          | 0/? [00:00<?, ?it/s]"
      ]
     },
     "metadata": {},
     "output_type": "display_data"
    },
    {
     "data": {
      "application/vnd.jupyter.widget-view+json": {
       "model_id": "b3c70eb70b694ecd80435cb186933500",
       "version_major": 2,
       "version_minor": 0
      },
      "text/plain": [
       "Validation: |          | 0/? [00:00<?, ?it/s]"
      ]
     },
     "metadata": {},
     "output_type": "display_data"
    },
    {
     "data": {
      "application/vnd.jupyter.widget-view+json": {
       "model_id": "4ba82aadf3d54d1fa02bd3eba24ac300",
       "version_major": 2,
       "version_minor": 0
      },
      "text/plain": [
       "Validation: |          | 0/? [00:00<?, ?it/s]"
      ]
     },
     "metadata": {},
     "output_type": "display_data"
    },
    {
     "data": {
      "application/vnd.jupyter.widget-view+json": {
       "model_id": "8a287ff065944610b0a194ba4814ee39",
       "version_major": 2,
       "version_minor": 0
      },
      "text/plain": [
       "Validation: |          | 0/? [00:00<?, ?it/s]"
      ]
     },
     "metadata": {},
     "output_type": "display_data"
    },
    {
     "data": {
      "application/vnd.jupyter.widget-view+json": {
       "model_id": "1904c85dffe64eb488d27d269459aa5b",
       "version_major": 2,
       "version_minor": 0
      },
      "text/plain": [
       "Validation: |          | 0/? [00:00<?, ?it/s]"
      ]
     },
     "metadata": {},
     "output_type": "display_data"
    },
    {
     "data": {
      "application/vnd.jupyter.widget-view+json": {
       "model_id": "cd1305121f1449fa8187df58a415bb62",
       "version_major": 2,
       "version_minor": 0
      },
      "text/plain": [
       "Validation: |          | 0/? [00:00<?, ?it/s]"
      ]
     },
     "metadata": {},
     "output_type": "display_data"
    },
    {
     "data": {
      "application/vnd.jupyter.widget-view+json": {
       "model_id": "8e070491c24f406c9e55c3d29341c0d1",
       "version_major": 2,
       "version_minor": 0
      },
      "text/plain": [
       "Validation: |          | 0/? [00:00<?, ?it/s]"
      ]
     },
     "metadata": {},
     "output_type": "display_data"
    },
    {
     "data": {
      "application/vnd.jupyter.widget-view+json": {
       "model_id": "dc16c5b9eb0442da925ee224a79c959a",
       "version_major": 2,
       "version_minor": 0
      },
      "text/plain": [
       "Validation: |          | 0/? [00:00<?, ?it/s]"
      ]
     },
     "metadata": {},
     "output_type": "display_data"
    },
    {
     "data": {
      "application/vnd.jupyter.widget-view+json": {
       "model_id": "5ae1aeadb6f84894bbfc25ab55eee830",
       "version_major": 2,
       "version_minor": 0
      },
      "text/plain": [
       "Validation: |          | 0/? [00:00<?, ?it/s]"
      ]
     },
     "metadata": {},
     "output_type": "display_data"
    },
    {
     "data": {
      "application/vnd.jupyter.widget-view+json": {
       "model_id": "d0c5734202a94c1fbe396824dc44044c",
       "version_major": 2,
       "version_minor": 0
      },
      "text/plain": [
       "Validation: |          | 0/? [00:00<?, ?it/s]"
      ]
     },
     "metadata": {},
     "output_type": "display_data"
    },
    {
     "data": {
      "application/vnd.jupyter.widget-view+json": {
       "model_id": "3f3d4b6276d94a57953beb302e286f19",
       "version_major": 2,
       "version_minor": 0
      },
      "text/plain": [
       "Validation: |          | 0/? [00:00<?, ?it/s]"
      ]
     },
     "metadata": {},
     "output_type": "display_data"
    },
    {
     "name": "stderr",
     "output_type": "stream",
     "text": [
      "`Trainer.fit` stopped: `max_epochs=50` reached.\n"
     ]
    }
   ],
   "source": [
    "trainerGRU.fit(lit_moduleGRU, train_loader, test_loader)"
   ]
  },
  {
   "cell_type": "markdown",
   "metadata": {},
   "source": [
    "![title](07GRU1.png)"
   ]
  },
  {
   "cell_type": "markdown",
   "metadata": {},
   "source": [
    "#### Задание 2 (8 баллов + 4 бонусных). Генерация антител"
   ]
  },
  {
   "cell_type": "markdown",
   "metadata": {},
   "source": [
    "Поиграем за B-лимфоцит и попробуем создать новые антитела.\n",
    "\n",
    "Модель - почти полная копия модели с практики, но есть дополнительное условие: теперь кроме текущего токена и предыдущего скрытого состояния пусть наша ячейка принимает ещё метку биологического вида, к которому должно относиться антитело, вроде такого:"
   ]
  },
  {
   "cell_type": "markdown",
   "metadata": {},
   "source": [
    "**2.1. (2 балла)** Реализуйте архитектуру модели для генерации антител символ за символом\n",
    "\n",
    "**2.2. (2 балла)** Обучите модель в течение 10-50 эпох, постройте графики функции ошибки.\n",
    "\n",
    "**2.3. (4 балла)** Сгенерируйте с помощью модели по 20 антител для каждого биологического вида в отдельных ячейках, выведите их в ноутбуке. Воспользуйтесь функцией `get_sequence_score` (ниже), чтобы посчитать сходство ваших антител с природными (вернее - очень грубую оценку). Посчитайте, сколько антител из сгенерированных вами имеют оценку 0.55 и выше для каждого биологического вида.\n",
    "\n",
    "**2.4. (Бонус 4 балла)** Повторите пункты 2.2 и 2.3, но используйте другой тип рекуррентной ячейки (GRU или LSTM).\n"
   ]
  },
  {
   "cell_type": "markdown",
   "metadata": {},
   "source": [
    "### Задание 2.1"
   ]
  },
  {
   "cell_type": "code",
   "execution_count": 147,
   "metadata": {},
   "outputs": [],
   "source": [
    "class ConditionalRNNCell(nn.Module):\n",
    "    \"\"\"\n",
    "    (x_{t}, h_{t-1}, c) -> h_{t}\n",
    "    \"\"\"\n",
    "    def __init__(self, input_dim: int, class_dim: int, hidden_dim: int) -> None:\n",
    "        super().__init__()\n",
    "        self.linear = nn.Linear(input_dim+hidden_dim+class_dim, hidden_dim)\n",
    "\n",
    "    def forward(self, x: Tensor, h: Tensor, c: Tensor) -> Tensor:\n",
    "        # x: B x input_dim: эмбеддинг последнего токен\n",
    "        # c: B x class_dim: эмбеддинг биологического вида\n",
    "        # h: B x hidden_dim: последнее скрытое состояние\n",
    "        \n",
    "    \n",
    "        #print(c.shape, x.shape, h.shape)\n",
    "        h = torch.cat([x, h, c], dim=1)\n",
    "        h = self.linear(h)\n",
    "        return F.tanh(h)"
   ]
  },
  {
   "cell_type": "code",
   "execution_count": 170,
   "metadata": {},
   "outputs": [],
   "source": [
    "class ConditionalRNN(nn.Module):\n",
    "    def __init__(self, vocab_size: int, block: Type[nn.Module], hidden_dim: int) -> None:\n",
    "        super().__init__()\n",
    "        self.embed_token = nn.Embedding(vocab_size, hidden_dim)\n",
    "        self.embed_class = nn.Embedding(5, hidden_dim)\n",
    "        self.init_h = nn.Parameter(data=torch.randn(1, hidden_dim))\n",
    "        self.rnn = block(hidden_dim, hidden_dim, hidden_dim)\n",
    "        self.lm_head = nn.Linear(hidden_dim, vocab_size)\n",
    "\n",
    "\n",
    "    def forward(self, x: Tensor, c: Tensor) -> Tensor:\n",
    "        # x: B x T\n",
    "        # embed(x): B x T -> B x T x hidden_dim\n",
    "        B, T = x.shape\n",
    "        c = c.expand((B, T))\n",
    "        x = self.embed_token(x)  # B x T x hidden_dim\n",
    "        c =  self.embed_class(c)\n",
    "        h = self.init_h.expand((B, -1)) # B x hidden_dim\n",
    "\n",
    "        logits = [] # T x B x V\n",
    "        for t in range(T):\n",
    "            xt = x[:, t, :]\n",
    "            ct = c[:, t, :]\n",
    "            h = self.rnn.forward(xt, h, ct)  # B x hidden\n",
    "            y = self.lm_head(h).unsqueeze(1)  # B x 1 x hidden\n",
    "            logits.append(y)\n",
    "            # save prediction for step t + 1\n",
    "\n",
    "        # lm_head: B x T x hidden -> B x T x V\n",
    "        return torch.cat(logits, dim=1)"
   ]
  },
  {
   "cell_type": "code",
   "execution_count": 171,
   "metadata": {},
   "outputs": [],
   "source": [
    "hidden_dim = 64\n",
    "tokens, labels = next(iter(train_loader))\n",
    "model = ConditionalRNN(\n",
    "    vocab_size=dataset.vocab_size,\n",
    "    hidden_dim=hidden_dim, block=ConditionalRNNCell\n",
    ")"
   ]
  },
  {
   "cell_type": "code",
   "execution_count": 172,
   "metadata": {},
   "outputs": [],
   "source": [
    "@torch.no_grad()\n",
    "def generate(model: ConditionalRNN, idx: Tensor, cls: Tensor, max_new_tokens: int) -> Tensor:\n",
    "    # idx: B x T\n",
    "    for t in range(max_new_tokens):\n",
    "        logits = model.forward(idx, cls)[:, -1]  # B x T x V\n",
    "        probs = F.softmax(logits, dim=1)  # B x V\n",
    "        new_token = torch.multinomial(probs, 1)\n",
    "        idx = torch.cat([idx, new_token], dim=1)\n",
    "\n",
    "    return idx"
   ]
  },
  {
   "cell_type": "code",
   "execution_count": 173,
   "metadata": {},
   "outputs": [],
   "source": [
    "VOCAB_ = {\n",
    "        0: '_', 1: '?', 2: '\\n', 3: 'A', 4: 'C', 5: 'D', 6: 'E', 7: 'F', 8: 'G', 9: 'H',\n",
    "        10: 'I', 11: 'K', 12: 'L', 13: 'M', 14: 'N', 15: 'P', 16: 'Q', 17: 'R', 18: 'S',\n",
    "        19: 'T', 20: 'V', 21: 'W', 22: 'Y', 23: 'X'\n",
    "    }\n",
    "\n",
    "def batch_decode(out_tensor):\n",
    "    def decode_string(tokens):\n",
    "        decoded_strings = []\n",
    "        for t in tokens:\n",
    "            if t.item() in {0, 1}:\n",
    "                continue\n",
    "            elif t.item() == 2:\n",
    "                break\n",
    "            else:\n",
    "                decoded_strings.append(VOCAB_.get(t.item(), '?'))\n",
    "        return ''.join(decoded_strings)\n",
    "\n",
    "    decoded_strings = [decode_string(t) for t in out_tensor]\n",
    "\n",
    "    return decoded_strings"
   ]
  },
  {
   "cell_type": "code",
   "execution_count": 174,
   "metadata": {},
   "outputs": [
    {
     "name": "stdout",
     "output_type": "stream",
     "text": [
      "SPDLWWEGTX\n",
      "GRLWLEEIXERMHSKGVFGIQGKWRQHHV\n",
      "FLVRWDASNFAGYEAKFQDERHTMVMQLAWTMYECDFL\n",
      "LLWPXXCASPYE\n"
     ]
    }
   ],
   "source": [
    "samples = generate(model, idx=torch.full(size=(4, 1), fill_value=1, dtype=int), cls=torch.zeros(4, 1).int(), max_new_tokens=40)\n",
    "print('\\n'.join(batch_decode(samples)))"
   ]
  },
  {
   "cell_type": "markdown",
   "metadata": {},
   "source": [
    "### Задание 2.2"
   ]
  },
  {
   "cell_type": "code",
   "execution_count": 175,
   "metadata": {},
   "outputs": [],
   "source": [
    "optimizer = torch.optim.Adam(model.parameters(), lr=0.001)"
   ]
  },
  {
   "cell_type": "code",
   "execution_count": 75,
   "metadata": {},
   "outputs": [
    {
     "name": "stdout",
     "output_type": "stream",
     "text": [
      "0 tensor(1.9576, grad_fn=<NllLossBackward0>)\n",
      "1 tensor(1.5370, grad_fn=<NllLossBackward0>)\n",
      "2 tensor(1.2501, grad_fn=<NllLossBackward0>)\n",
      "3 tensor(1.2862, grad_fn=<NllLossBackward0>)\n",
      "4 tensor(1.1347, grad_fn=<NllLossBackward0>)\n",
      "5 tensor(1.1095, grad_fn=<NllLossBackward0>)\n",
      "6 tensor(1.0116, grad_fn=<NllLossBackward0>)\n",
      "7 tensor(1.2413, grad_fn=<NllLossBackward0>)\n",
      "8 tensor(1.0645, grad_fn=<NllLossBackward0>)\n",
      "9 tensor(0.9579, grad_fn=<NllLossBackward0>)\n",
      "10 tensor(0.8674, grad_fn=<NllLossBackward0>)\n",
      "11 tensor(1.0708, grad_fn=<NllLossBackward0>)\n",
      "12 tensor(0.9236, grad_fn=<NllLossBackward0>)\n",
      "13 tensor(0.9317, grad_fn=<NllLossBackward0>)\n",
      "14 tensor(1.0038, grad_fn=<NllLossBackward0>)\n",
      "15 tensor(0.8670, grad_fn=<NllLossBackward0>)\n",
      "16 tensor(0.9518, grad_fn=<NllLossBackward0>)\n",
      "17 tensor(1.0125, grad_fn=<NllLossBackward0>)\n",
      "18 tensor(0.8832, grad_fn=<NllLossBackward0>)\n",
      "19 tensor(0.9657, grad_fn=<NllLossBackward0>)\n",
      "20 tensor(1.0494, grad_fn=<NllLossBackward0>)\n",
      "21 tensor(0.9495, grad_fn=<NllLossBackward0>)\n",
      "22 tensor(0.8869, grad_fn=<NllLossBackward0>)\n",
      "23 tensor(1.0360, grad_fn=<NllLossBackward0>)\n",
      "24 tensor(0.8889, grad_fn=<NllLossBackward0>)\n"
     ]
    }
   ],
   "source": [
    "losses = []\n",
    "for epoch in range(25):\n",
    "    for tokens, _ in train_loader:\n",
    "        logits = model.forward(tokens, _.view(-1, 1))  # B x T x V\n",
    "        loss = F.cross_entropy(\n",
    "            logits[:, :-1].reshape(-1, len(VOCAB)),\n",
    "            tokens[:, 1:].reshape(-1),\n",
    "        )\n",
    "        loss.backward()\n",
    "        optimizer.step()\n",
    "        optimizer.zero_grad()\n",
    "    losses.append(loss.item())\n",
    "    print(epoch, loss)"
   ]
  },
  {
   "cell_type": "code",
   "execution_count": 76,
   "metadata": {},
   "outputs": [
    {
     "data": {
      "image/png": "[encoded data removed]",
      "text/plain": [
       "<Figure size 1000x500 with 1 Axes>"
      ]
     },
     "metadata": {},
     "output_type": "display_data"
    }
   ],
   "source": [
    "import matplotlib.pyplot as plt\n",
    "\n",
    "epochs = range(1, len(losses) + 1)\n",
    "\n",
    "plt.figure(figsize=(10, 5))\n",
    "plt.plot(epochs, losses, marker='o', linestyle='-', color='b', label='Loss')\n",
    "plt.title('Функция ошибки')\n",
    "plt.xlabel('Epochs')\n",
    "plt.ylabel('Loss')\n",
    "plt.xticks(epochs)\n",
    "plt.grid()\n",
    "plt.legend()\n",
    "plt.show()"
   ]
  },
  {
   "cell_type": "markdown",
   "metadata": {},
   "source": [
    "### Задание 2.3"
   ]
  },
  {
   "cell_type": "code",
   "execution_count": 55,
   "metadata": {},
   "outputs": [
    {
     "name": "stdout",
     "output_type": "stream",
     "text": [
      "Requirement already satisfied: biopython==1.84 in /home/sachaiugai/anaconda3/lib/python3.12/site-packages (1.84)\n",
      "Requirement already satisfied: numpy in /home/sachaiugai/anaconda3/lib/python3.12/site-packages (from biopython==1.84) (1.26.4)\n"
     ]
    }
   ],
   "source": [
    "! pip install biopython==1.84"
   ]
  },
  {
   "cell_type": "code",
   "execution_count": 77,
   "metadata": {},
   "outputs": [],
   "source": [
    "from Bio.Align import PairwiseAligner\n",
    "\n",
    "\n",
    "def get_sequence_score(query_sequence: str) -> float:\n",
    "    references = [\n",
    "        \"QVQLQQPGAELVKPGASVKMSCKAS_WITWVKQRPGQGLEWIGDI_TNYNEKFKTKATLTVDTSSSTAYMQLSSLTSEDSAVYYCAR_WGQGTSVTVSS\",\n",
    "        \"EVKLEESGGGLVQPGGSMKLSCAAS_WMDWVRQSPEKGLEWVAEI_TYYAESVKGRFTISRDDSKSSVYLQMNSLRAEDTGIYYCTA_WGQGTLVTVSA\",\n",
    "        \"HVQLVESGGGSVQPGGSLRLSCTVS_CMGWFRRAPGKEREKVATL_TSYADSVKGRFAISQDPAKNTLWLQMNSLKPEDSATYYCAA_SSRGTQVTVS\",\n",
    "        \"QVQLVESGGGSVQAGGSLKLSCAAS_CMGWSRQAPGKGREGVARI_TAYADSVKGRFTISHDSIKNTLYLQMNSLRPEDTAKYYCAA_WGQGTQVTV\",\n",
    "        \"QSLEESGGDLVKPGASLTLTCTAS_YMCWVRQAPGKGLEWIACI_TYYASWAKGRFTISKTSSTTVTLQMTSLTAADTATYFCAS_WGQGTLVTVS\",\n",
    "        \"QEQLVESGGGLVKPGASLTLTCKAS_VMCWVRQAPGKGLEWIACI_SVYASWAKGRSTISRTSSTTVTLQMTSLTAADTATYFCAR_RGPGTLVTVS\",\n",
    "        \"SVKVSCKAS_WIQWVRQAPGQGLEWMGWM_TTYSPKFQGRVSMTSDKSITTAYLELRGLTSDDTAVYSCAR_WGQGTLITVTS\",\n",
    "    ]\n",
    "    max_score = 0.0\n",
    "    for ref in map(lambda s: s.replace(\"_\", \"\"), references):\n",
    "        alignment = PairwiseAligner().align(query_sequence, ref)[0]\n",
    "        n_matches = sum(\n",
    "            1 for i in range(alignment.length) if alignment[0][i] == alignment[1][i]\n",
    "        )\n",
    "        max_score = max(max_score, n_matches / len(ref))\n",
    "\n",
    "    return max_score"
   ]
  },
  {
   "cell_type": "code",
   "execution_count": 78,
   "metadata": {},
   "outputs": [
    {
     "data": {
      "text/plain": [
       "0.3763440860215054"
      ]
     },
     "execution_count": 78,
     "metadata": {},
     "output_type": "execute_result"
    }
   ],
   "source": [
    "get_sequence_score(\"HESGGGAVTVSKETLSLTLTYEDTAIYYCAKDDVGGSSYSPVCWLSWGQGTQVTVS\")"
   ]
  },
  {
   "cell_type": "code",
   "execution_count": 79,
   "metadata": {},
   "outputs": [
    {
     "data": {
      "text/plain": [
       "0.7340425531914894"
      ]
     },
     "execution_count": 79,
     "metadata": {},
     "output_type": "execute_result"
    }
   ],
   "source": [
    "get_sequence_score(\n",
    "    \"EVQLVESGGGLVQPGGSLRLSCAASGFTFSDDGMSWVRQAPGKGLEWVAVISSDGSQKSNADSVRDRFTISKDNSKNMLYLQMNNLRLEDTAVYFCTTFSYWGQGVQVTVSS\"\n",
    ")"
   ]
  },
  {
   "cell_type": "code",
   "execution_count": 88,
   "metadata": {},
   "outputs": [
    {
     "name": "stdout",
     "output_type": "stream",
     "text": [
      "3 антител вида Camel имеют оценку >= 0.55\n",
      "11 антител вида Human имеют оценку >= 0.55\n",
      "12 антител вида Mouse имеют оценку >= 0.55\n",
      "12 антител вида Rabbit имеют оценку >= 0.55\n",
      "7 антител вида Rhesus имеют оценку >= 0.55\n"
     ]
    }
   ],
   "source": [
    "SPECIES_ = {0: 'Camel', 1: 'Human', 2: 'Mouse', 3: 'Rabbit', 4: 'Rhesus'}\n",
    "samples = []\n",
    "\n",
    "for i in range(5):\n",
    "    sample = batch_decode(generate(model, idx=torch.full(size=(20, 1), fill_value=1, dtype=int), cls=torch.full(size=(20, 1), fill_value=i, dtype=int), max_new_tokens=150))\n",
    "    samples.append(sample)\n",
    "\n",
    "for i in range(5):\n",
    "    count = 0\n",
    "    for j in range(20):\n",
    "        if get_sequence_score(samples[i][j]) >= 0.55:\n",
    "            count += 1\n",
    "    print(f\"{count} антител вида {SPECIES_[i]} имеют оценку более 0.55\")"
   ]
  },
  {
   "cell_type": "markdown",
   "metadata": {},
   "source": [
    "### Задание 2.4"
   ]
  },
  {
   "cell_type": "code",
   "execution_count": 181,
   "metadata": {},
   "outputs": [],
   "source": [
    "class ConditionalGRUCell(nn.Module):\n",
    "    \"\"\"\n",
    "    (x_{t}, h_{t-1}, c) -> h_{t}\n",
    "    \"\"\"\n",
    "    def __init__(self, input_dim: int, class_dim: int, hidden_dim: int) -> None:\n",
    "        super().__init__()\n",
    "        self.linear_z = nn.Linear(input_dim+hidden_dim+class_dim, hidden_dim)\n",
    "        self.linear_r = nn.Linear(input_dim+hidden_dim+class_dim, hidden_dim)\n",
    "        self.linear_h = nn.Linear(input_dim+hidden_dim+class_dim, hidden_dim)\n",
    "\n",
    "    def forward(self, x: Tensor, h: Tensor, c: Tensor) -> Tensor:\n",
    "        # x: B x input_dim: эмбеддинг последнего токен\n",
    "        # c: B x class_dim: эмбеддинг биологического вида\n",
    "        # h: B x hidden_dim: последнее скрытое состояние\n",
    "        \n",
    "        z = torch.cat([x, h, c], dim=1)\n",
    "        z = self.linear_z(z)\n",
    "        z = F.sigmoid(z)\n",
    "        r = torch.cat([x, h, c], dim=1)\n",
    "        r = self.linear_r(r)\n",
    "        r = F.sigmoid(r)\n",
    "        h_ = torch.cat([r * h, x, c], dim=1)\n",
    "        h_ = self.linear_h(h_)\n",
    "        h_ = F.tanh(h_)\n",
    "        h = (1 - z) * h_ + z * h\n",
    "        return h\n"
   ]
  },
  {
   "cell_type": "code",
   "execution_count": 182,
   "metadata": {},
   "outputs": [],
   "source": [
    "hidden_dim = 64\n",
    "tokens, labels = next(iter(train_loader))\n",
    "modelGRU2 = ConditionalRNN(\n",
    "    vocab_size=dataset.vocab_size,\n",
    "    hidden_dim=hidden_dim, block=ConditionalGRUCell\n",
    ")"
   ]
  },
  {
   "cell_type": "code",
   "execution_count": 183,
   "metadata": {},
   "outputs": [
    {
     "name": "stdout",
     "output_type": "stream",
     "text": [
      "CYWCIKKRKDCHTEDMAF\n",
      "LGADSNSPIPVPEEKWADNEDWDFRGDCVLNLX\n",
      "IADQGLLI\n",
      "IHCCDKYXPIDIQDM\n"
     ]
    }
   ],
   "source": [
    "samples = generate(modelGRU2, idx=torch.full(size=(4, 1), fill_value=1, dtype=int), cls=torch.zeros(4, 1).int(), max_new_tokens=40)\n",
    "print('\\n'.join(batch_decode(samples)))"
   ]
  },
  {
   "cell_type": "code",
   "execution_count": 184,
   "metadata": {},
   "outputs": [],
   "source": [
    "optimizer = torch.optim.Adam(modelGRU2.parameters(), lr=0.001)"
   ]
  },
  {
   "cell_type": "code",
   "execution_count": 185,
   "metadata": {},
   "outputs": [
    {
     "name": "stdout",
     "output_type": "stream",
     "text": [
      "0 tensor(1.9769, grad_fn=<NllLossBackward0>)\n",
      "1 tensor(1.3162, grad_fn=<NllLossBackward0>)\n",
      "2 tensor(1.1905, grad_fn=<NllLossBackward0>)\n",
      "3 tensor(1.0326, grad_fn=<NllLossBackward0>)\n",
      "4 tensor(1.0420, grad_fn=<NllLossBackward0>)\n",
      "5 tensor(0.9194, grad_fn=<NllLossBackward0>)\n",
      "6 tensor(0.9257, grad_fn=<NllLossBackward0>)\n",
      "7 tensor(0.9448, grad_fn=<NllLossBackward0>)\n",
      "8 tensor(0.8722, grad_fn=<NllLossBackward0>)\n",
      "9 tensor(0.8350, grad_fn=<NllLossBackward0>)\n",
      "10 tensor(0.8378, grad_fn=<NllLossBackward0>)\n",
      "11 tensor(0.7061, grad_fn=<NllLossBackward0>)\n",
      "12 tensor(0.7015, grad_fn=<NllLossBackward0>)\n",
      "13 tensor(0.8066, grad_fn=<NllLossBackward0>)\n",
      "14 tensor(0.8259, grad_fn=<NllLossBackward0>)\n",
      "15 tensor(0.8569, grad_fn=<NllLossBackward0>)\n",
      "16 tensor(0.8856, grad_fn=<NllLossBackward0>)\n",
      "17 tensor(0.7335, grad_fn=<NllLossBackward0>)\n",
      "18 tensor(0.8011, grad_fn=<NllLossBackward0>)\n",
      "19 tensor(0.8054, grad_fn=<NllLossBackward0>)\n",
      "20 tensor(0.7663, grad_fn=<NllLossBackward0>)\n",
      "21 tensor(0.8769, grad_fn=<NllLossBackward0>)\n",
      "22 tensor(0.8034, grad_fn=<NllLossBackward0>)\n",
      "23 tensor(0.6827, grad_fn=<NllLossBackward0>)\n",
      "24 tensor(0.6386, grad_fn=<NllLossBackward0>)\n"
     ]
    }
   ],
   "source": [
    "lossesGRU2 = []\n",
    "for epoch in range(25):\n",
    "    for tokens, _ in train_loader:\n",
    "        logits = modelGRU2.forward(tokens, _.view(-1, 1))  # B x T x V\n",
    "        lossGRU2 = F.cross_entropy(\n",
    "            logits[:, :-1].reshape(-1, len(VOCAB)),\n",
    "            tokens[:, 1:].reshape(-1),\n",
    "        )\n",
    "        lossGRU2.backward()\n",
    "        optimizer.step()\n",
    "        optimizer.zero_grad()\n",
    "    lossesGRU2.append(lossGRU2.item())\n",
    "    print(epoch, lossGRU2)"
   ]
  },
  {
   "cell_type": "code",
   "execution_count": 186,
   "metadata": {},
   "outputs": [
    {
     "data": {
      "image/png": "[encoded data removed]",
      "text/plain": [
       "<Figure size 1000x500 with 1 Axes>"
      ]
     },
     "metadata": {},
     "output_type": "display_data"
    }
   ],
   "source": [
    "import matplotlib.pyplot as plt\n",
    "\n",
    "epochs = range(1, len(lossesGRU2) + 1)\n",
    "\n",
    "plt.figure(figsize=(10, 5))\n",
    "plt.plot(epochs, lossesGRU2, marker='o', linestyle='-', color='b', label='Loss')\n",
    "plt.title('Функция ошибки GRU')\n",
    "plt.xlabel('Epochs')\n",
    "plt.ylabel('Loss')\n",
    "plt.xticks(epochs)\n",
    "plt.grid()\n",
    "plt.legend()\n",
    "plt.show()"
   ]
  },
  {
   "cell_type": "code",
   "execution_count": 187,
   "metadata": {},
   "outputs": [
    {
     "name": "stdout",
     "output_type": "stream",
     "text": [
      "13 антител вида Camel имеют оценку более 0.55\n",
      "15 антител вида Human имеют оценку более 0.55\n",
      "17 антител вида Mouse имеют оценку более 0.55\n",
      "16 антител вида Rabbit имеют оценку более 0.55\n",
      "18 антител вида Rhesus имеют оценку более 0.55\n"
     ]
    }
   ],
   "source": [
    "samples = []\n",
    "\n",
    "for i in range(5):\n",
    "    sample = batch_decode(generate(modelGRU2, idx=torch.full(size=(20, 1), fill_value=1, dtype=int), cls=torch.full(size=(20, 1), fill_value=i, dtype=int), max_new_tokens=150))\n",
    "    samples.append(sample)\n",
    "\n",
    "for i in range(5):\n",
    "    count = 0\n",
    "    for j in range(20):\n",
    "        if get_sequence_score(samples[i][j]) >= 0.55:\n",
    "            count += 1\n",
    "    print(f\"{count} антител вида {SPECIES_[i]} имеют оценку более 0.55\")"
   ]
  },
  {
   "cell_type": "code",
   "execution_count": null,
   "metadata": {},
   "outputs": [],
   "source": []
  }
 ],
 "metadata": {
  "kernelspec": {
   "display_name": "Python 3 (ipykernel)",
   "language": "python",
   "name": "python3"
  },
  "language_info": {
   "codemirror_mode": {
    "name": "ipython",
    "version": 3
   },
   "file_extension": ".py",
   "mimetype": "text/x-python",
   "name": "python",
   "nbconvert_exporter": "python",
   "pygments_lexer": "ipython3",
   "version": "3.12.2"
  }
 },
 "nbformat": 4,
 "nbformat_minor": 4
}
