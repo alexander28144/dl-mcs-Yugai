{
 "cells": [
  {
   "cell_type": "markdown",
   "metadata": {},
   "source": [
    "## T5 трансформер для перевода с немецкого на английский"
   ]
  },
  {
   "cell_type": "markdown",
   "metadata": {},
   "source": [
    "Сегодня вы поработаете над настоящей задачей NLP и попробуете обучить трансформер переводить короткие предложения с английского на немецкий.\n",
    "\n",
    "Токенизацию и блоки трансформера писать не придётся — будем пользоваться библиотекой `transformers`.\n",
    "\n",
    "Наши задачи:\n",
    "- Познакомиться с наиболее популярным методом токенизации текстов — byte pair encoding\n",
    "- Научиться пользоваться токенизатором из `transformers`\n",
    "- Подготовить даннные\n",
    "- Обучить готовую архитектуру T5-small под нашу задачу\n",
    "- Исследовать разные стратегии декодирования с помощью обученной модели"
   ]
  },
  {
   "cell_type": "code",
   "execution_count": 1,
   "metadata": {},
   "outputs": [],
   "source": [
    "import math\n",
    "from pathlib import Path\n",
    "from typing import cast\n",
    "\n",
    "import lightning as L\n",
    "import torch\n",
    "import torch.nn.functional as F\n",
    "from torch import Tensor, nn\n",
    "from torch.utils.data import DataLoader, Dataset\n",
    "from transformers import T5ForConditionalGeneration, T5Tokenizer\n",
    "\n",
    "from datasets import load_dataset, load_from_disk"
   ]
  },
  {
   "cell_type": "code",
   "execution_count": 2,
   "metadata": {},
   "outputs": [
    {
     "data": {
      "text/plain": [
       "<torch._C.Generator at 0x7e5641b53770>"
      ]
     },
     "execution_count": 2,
     "metadata": {},
     "output_type": "execute_result"
    }
   ],
   "source": [
    "torch.manual_seed(42)"
   ]
  },
  {
   "cell_type": "markdown",
   "metadata": {},
   "source": [
    "#### Готовим данные"
   ]
  },
  {
   "cell_type": "code",
   "execution_count": 3,
   "metadata": {},
   "outputs": [],
   "source": [
    "train_dataset = load_dataset(\"bentrevett/multi30k\", split=\"train\")\n",
    "test_dataset = load_dataset(\"bentrevett/multi30k\", split=\"test\")"
   ]
  },
  {
   "cell_type": "code",
   "execution_count": 4,
   "metadata": {},
   "outputs": [
    {
     "data": {
      "text/plain": [
       "{'en': 'Two young, White males are outside near many bushes.',\n",
       " 'de': 'Zwei junge weiße Männer sind im Freien in der Nähe vieler Büsche.'}"
      ]
     },
     "execution_count": 4,
     "metadata": {},
     "output_type": "execute_result"
    }
   ],
   "source": [
    "train_dataset[0]"
   ]
  },
  {
   "cell_type": "code",
   "execution_count": 5,
   "metadata": {},
   "outputs": [
    {
     "data": {
      "image/png": "[encoded data removed]",
      "text/plain": [
       "<Figure size 1000x300 with 2 Axes>"
      ]
     },
     "metadata": {},
     "output_type": "display_data"
    }
   ],
   "source": [
    "import matplotlib.pyplot as plt\n",
    "\n",
    "\n",
    "def length_histogram(dataset, ax, bins=20) -> None:\n",
    "    en_lengths = []\n",
    "    de_lengths = []\n",
    "    for sample in dataset:\n",
    "        en_lengths.append(len(sample[\"en\"].split(\" \")))\n",
    "        de_lengths.append(len(sample[\"de\"].split(\" \")))\n",
    "\n",
    "    ax.hist(en_lengths, alpha=0.5, bins=bins, label=\"en\")\n",
    "    ax.hist(de_lengths, alpha=0.5, bins=bins, label=\"de\")\n",
    "    ax.legend()\n",
    "\n",
    "\n",
    "fig, axes = plt.subplots(1, 2, figsize=(10, 3))\n",
    "length_histogram(train_dataset, axes[0])\n",
    "length_histogram(test_dataset, axes[1])"
   ]
  },
  {
   "cell_type": "markdown",
   "metadata": {},
   "source": [
    "Оставим только сравнительно короткие предложения, чтобы можно было чему-то научиться за короткое время"
   ]
  },
  {
   "cell_type": "code",
   "execution_count": 6,
   "metadata": {},
   "outputs": [
    {
     "name": "stdout",
     "output_type": "stream",
     "text": [
      "5144 174\n"
     ]
    }
   ],
   "source": [
    "maxlen = 8\n",
    "\n",
    "def filter_dataset(dataset, maxlen: int) -> list[dict[str, str]]:\n",
    "    return [\n",
    "        dataset[i]\n",
    "        for i in range(len(dataset))\n",
    "        if len(dataset[i][\"en\"].split(\" \")) <= maxlen\n",
    "    ]\n",
    "\n",
    "\n",
    "train_filtered = filter_dataset(train_dataset, maxlen)\n",
    "test_filtered = filter_dataset(test_dataset, maxlen)\n",
    "\n",
    "print(len(train_filtered), len(test_filtered))"
   ]
  },
  {
   "cell_type": "markdown",
   "metadata": {},
   "source": [
    "##### Токенизация: byte-pair encoding"
   ]
  },
  {
   "cell_type": "markdown",
   "metadata": {},
   "source": [
    "Построение:\n",
    "\n",
    "Начинаем со словаря, состоящего из отдельных символов (начальные токены).\n",
    "На каждом шаге:\n",
    "1. Оцениваем частоту всех пар токенов внутри слов, находим самую частую\n",
    "2. Добавляем её в список токенов и в таблицу слияний\n",
    "3. Останавливаемся, когда достигаем максимального размера словаря\n",
    "\n",
    "\n",
    "Применение:\n",
    "\n",
    "1. Разбиваем текст на символы\n",
    "2. Находим первое возможное слияние в таблице и применяем его\n",
    "3. Останавливаемся, когда дальнейшие слияния невозможны\n",
    "\n",
    "<img src=\"https://lena-voita.github.io/resources/lectures/seq2seq/bpe/build_merge_table.gif\" style=\"background:white\" height=\"300\"/>\n",
    "<img src=\"https://lena-voita.github.io/resources/lectures/seq2seq/bpe/bpe_apply.gif\" style=\"background:white\" height=\"300\"/>\n"
   ]
  },
  {
   "cell_type": "markdown",
   "metadata": {},
   "source": [
    "Реализаций много, мы будем использовать токенизатор  из библиотеки `transformers`, где помимо самого подготовленного токенизатора (`sentencepiece.SentencePieceProcessor`) много полезных методов для кодирования и декодирования.\n",
    "\n",
    "Добавим при создании новый токен, который будет указывать на начало перевода"
   ]
  },
  {
   "cell_type": "code",
   "execution_count": 7,
   "metadata": {},
   "outputs": [],
   "source": [
    "tokenizer: T5Tokenizer = T5Tokenizer.from_pretrained(\n",
    "    \"t5-small\", padding_size=\"right\", bos_token=\"</b>\", legacy=False\n",
    ")"
   ]
  },
  {
   "cell_type": "code",
   "execution_count": 8,
   "metadata": {},
   "outputs": [
    {
     "name": "stdout",
     "output_type": "stream",
     "text": [
      "Размер словаря:  32101\n"
     ]
    }
   ],
   "source": [
    "print(\"Размер словаря: \", len(tokenizer))"
   ]
  },
  {
   "cell_type": "markdown",
   "metadata": {},
   "source": [
    "Посмотрим на примеры токенов, в них встречаются и целые слова из разных языков, и числительные, и знаки препинания:"
   ]
  },
  {
   "cell_type": "code",
   "execution_count": 9,
   "metadata": {},
   "outputs": [
    {
     "data": {
      "text/plain": [
       "[('HY', 15761),\n",
       " ('▁Pres', 10131),\n",
       " ('▁après', 3308),\n",
       " ('▁Berater', 30294),\n",
       " ('buch', 5671),\n",
       " ('ständ', 17955),\n",
       " ('▁Kentucky', 13401),\n",
       " ('datele', 12918),\n",
       " ('WOOD', 29637),\n",
       " ('vapeur', 30951)]"
      ]
     },
     "execution_count": 9,
     "metadata": {},
     "output_type": "execute_result"
    }
   ],
   "source": [
    "import random\n",
    "\n",
    "random.choices(list(tokenizer.get_vocab().items()), k=10)"
   ]
  },
  {
   "cell_type": "markdown",
   "metadata": {},
   "source": [
    "Токенизатор в работе: кодирование и декодирование предложений на немецком и английском:"
   ]
  },
  {
   "cell_type": "code",
   "execution_count": 10,
   "metadata": {},
   "outputs": [
    {
     "name": "stdout",
     "output_type": "stream",
     "text": [
      "[11280, 16815, 7838, 15, 16282, 436, 256, 8671, 35, 16, 74, 13271, 2221, 49, 21162, 3992, 5, 1]\n",
      "Zwei junge weiße Männer sind im Freien in der Nähe vieler Büsche.</s>\n",
      "[2759, 1021, 6, 1945, 5069, 7, 33, 1067, 1084, 186, 3, 30271, 5, 1]\n",
      "Two young, White males are outside near many bushes.</s>\n"
     ]
    }
   ],
   "source": [
    "encoded_german = tokenizer.encode(train_dataset[0][\"de\"])\n",
    "encoded_english = tokenizer.encode(train_dataset[0][\"en\"])\n",
    "print(encoded_german)\n",
    "print(tokenizer.decode(encoded_german))\n",
    "print(encoded_english)\n",
    "print(tokenizer.decode(encoded_english))"
   ]
  },
  {
   "cell_type": "markdown",
   "metadata": {},
   "source": [
    "Об упаковке в батчи можно больше не беспокоиться — токенизатор умеет обрабатывать сразу пачку примеров"
   ]
  },
  {
   "cell_type": "code",
   "execution_count": 11,
   "metadata": {},
   "outputs": [
    {
     "name": "stdout",
     "output_type": "stream",
     "text": [
      "torch.Size([4, 19])\n",
      "dict_keys(['input_ids', 'attention_mask'])\n"
     ]
    }
   ],
   "source": [
    "batch = [train_dataset[i][\"en\"] for i in range(4)]\n",
    "\n",
    "encoded_batch = tokenizer.batch_encode_plus(\n",
    "    batch, padding=\"longest\", return_tensors=\"pt\"\n",
    ")\n",
    "print(encoded_batch[\"input_ids\"].shape)\n",
    "print(encoded_batch.keys())"
   ]
  },
  {
   "cell_type": "markdown",
   "metadata": {},
   "source": [
    "Возвращается два значения: `input_ids` — это наши токены, а `attention_mask` — это тензор, равный по размеру батчу токенов, где на месте `pad_token` стоят нули, в остальных позициях — единицы. Это нам понадобится потом."
   ]
  },
  {
   "cell_type": "markdown",
   "metadata": {},
   "source": [
    "А ещё можно кодировать сразу входные и выходные данные:"
   ]
  },
  {
   "cell_type": "code",
   "execution_count": 12,
   "metadata": {},
   "outputs": [
    {
     "name": "stdout",
     "output_type": "stream",
     "text": [
      "dict_keys(['input_ids', 'attention_mask', 'labels'])\n"
     ]
    }
   ],
   "source": [
    "inputs = [train_dataset[i][\"en\"] + tokenizer.bos_token for i in range(4)]\n",
    "targets = [train_dataset[i][\"de\"] for i in range(4)]\n",
    "\n",
    "encoded_batch = tokenizer(\n",
    "    inputs, text_target=targets, padding=\"longest\", return_tensors=\"pt\"\n",
    ")\n",
    "print(encoded_batch.keys())"
   ]
  },
  {
   "cell_type": "markdown",
   "metadata": {},
   "source": [
    "Используем это в `collate_fn` для сборки батчей:"
   ]
  },
  {
   "cell_type": "code",
   "execution_count": 13,
   "metadata": {},
   "outputs": [],
   "source": [
    "def collate_fn(\n",
    "    tokenizer: T5Tokenizer, batch: list[tuple[str, str]]\n",
    ") -> tuple[Tensor, Tensor]:\n",
    "    prompt =tokenizer.bos_token\n",
    "    inputs, targets = zip(*[(pair[\"de\"], prompt + pair[\"en\"]) for pair in batch])\n",
    "    encoded_batch = tokenizer(\n",
    "        inputs, text_target=targets, padding=\"longest\", return_tensors=\"pt\"\n",
    "    )\n",
    "    return encoded_batch"
   ]
  },
  {
   "cell_type": "code",
   "execution_count": 14,
   "metadata": {},
   "outputs": [
    {
     "name": "stdout",
     "output_type": "stream",
     "text": [
      "dict_keys(['input_ids', 'attention_mask', 'labels'])\n"
     ]
    }
   ],
   "source": [
    "batch = [train_dataset[i] for i in range(4)]\n",
    "encoded_batch = collate_fn(tokenizer, batch)\n",
    "print(encoded_batch.keys())"
   ]
  },
  {
   "cell_type": "code",
   "execution_count": 15,
   "metadata": {},
   "outputs": [
    {
     "name": "stdout",
     "output_type": "stream",
     "text": [
      "torch.Size([4, 22])\n",
      "torch.Size([4, 22])\n",
      "torch.Size([4, 20])\n"
     ]
    }
   ],
   "source": [
    "print(encoded_batch[\"input_ids\"].shape)\n",
    "print(encoded_batch[\"attention_mask\"].shape)\n",
    "print(encoded_batch[\"labels\"].shape)"
   ]
  },
  {
   "cell_type": "markdown",
   "metadata": {},
   "source": [
    "Всё готово для получения минибатчей из датасетов:"
   ]
  },
  {
   "cell_type": "code",
   "execution_count": 16,
   "metadata": {},
   "outputs": [],
   "source": [
    "train_loader = DataLoader(\n",
    "    train_filtered,\n",
    "    batch_size=32,\n",
    "    shuffle=True,\n",
    "    collate_fn=lambda batch: collate_fn(tokenizer, batch),\n",
    ")\n",
    "test_loader = DataLoader(\n",
    "    test_filtered,\n",
    "    batch_size=32,\n",
    "    shuffle=False,\n",
    "    collate_fn=lambda batch: collate_fn(tokenizer, batch),\n",
    ")\n",
    "\n",
    "train_dataset = load_dataset(\"bentrevett/multi30k\", split=\"train\")\n",
    "test_dataset = load_dataset(\"bentrevett/multi30k\", split=\"test\")"
   ]
  },
  {
   "cell_type": "markdown",
   "metadata": {},
   "source": [
    "#### Задание 1 (3 балла). DataModule\n",
    "\n",
    "Реализуйте подкласс `lightning.LightningDataModule` для работы с обучающим и тестовым датасетами"
   ]
  },
  {
   "cell_type": "code",
   "execution_count": 17,
   "metadata": {},
   "outputs": [],
   "source": [
    "from lightning.pytorch.utilities.types import EVAL_DATALOADERS, TRAIN_DATALOADERS\n",
    "\n",
    "\n",
    "class Multi30kDataset(L.LightningDataModule):\n",
    "    train_dataset: Dataset\n",
    "    test_dataset: Dataset\n",
    "    tokenizer: T5Tokenizer\n",
    "\n",
    "    def __init__(self, maxlen: int = 0, batch_size: int = 32, tokenizer: T5Tokenizer = tokenizer) -> None:\n",
    "        super().__init__()\n",
    "        self.batch_size = batch_size\n",
    "        self.maxlen = maxlen\n",
    "        self.tokenizer = tokenizer\n",
    "        self.test_dataset = test_dataset\n",
    "\n",
    "    def setup(self, stage: str) -> None:\n",
    "        if stage == \"fit\":\n",
    "            self.train_dataset = train_dataset\n",
    "        elif stage == \"validate\":\n",
    "            self.test_dataset = test_dataset\n",
    "        else:\n",
    "            raise NotImplementedError\n",
    "    \n",
    "    def train_dataloader(self) -> TRAIN_DATALOADERS:\n",
    "        return DataLoader(\n",
    "   filter_dataset(self.train_dataset, self.maxlen),\n",
    "    batch_size=self.batch_size,\n",
    "    shuffle=True,\n",
    "    collate_fn=lambda batch: collate_fn(tokenizer, batch),\n",
    ")\n",
    "\n",
    "    def test_dataloader(self) -> EVAL_DATALOADERS:\n",
    "        return DataLoader(filter_dataset(self.test_dataset, self.maxlen),\n",
    "        batch_size=self.batch_size,\n",
    "        shuffle=False,\n",
    "        collate_fn=lambda batch: collate_fn(self.tokenizer, batch),\n",
    ")"
   ]
  },
  {
   "cell_type": "code",
   "execution_count": 18,
   "metadata": {},
   "outputs": [],
   "source": [
    "multi30k = Multi30kDataset(maxlen=8, tokenizer=tokenizer, batch_size=12)"
   ]
  },
  {
   "cell_type": "markdown",
   "metadata": {},
   "source": [
    "#### Задание 2 (6 баллов). Обучение T5"
   ]
  },
  {
   "cell_type": "markdown",
   "metadata": {},
   "source": [
    "paper: https://arxiv.org/abs/1910.10683"
   ]
  },
  {
   "cell_type": "markdown",
   "metadata": {},
   "source": [
    "Обучите `t5-small` на наших данных, длительность обучения — на ваше усмотрение. В [документации](https://huggingface.co/docs/transformers/model_doc/t5) вы найдёте примеры использования, которые помогут вам разобраться в интерфейсе модели."
   ]
  },
  {
   "cell_type": "code",
   "execution_count": 19,
   "metadata": {},
   "outputs": [],
   "source": [
    "t5 = T5ForConditionalGeneration.from_pretrained(\"t5-small\")"
   ]
  },
  {
   "cell_type": "markdown",
   "metadata": {},
   "source": [
    "Обернём в `LightningModule`"
   ]
  },
  {
   "cell_type": "code",
   "execution_count": 20,
   "metadata": {},
   "outputs": [],
   "source": [
    "import lightning as L\n",
    "from lightning.pytorch.utilities.types import STEP_OUTPUT, OptimizerLRScheduler\n",
    "\n",
    "\n",
    "class Seq2Seq(L.LightningModule):\n",
    "    def __init__(\n",
    "        self,\n",
    "        model: nn.Module,\n",
    "        tokenizer: T5Tokenizer,\n",
    "        lr: float = 0.01,\n",
    "    ) -> None:\n",
    "        super().__init__()\n",
    "        self.model = model\n",
    "        self.tokenizer = tokenizer\n",
    "        self.lr = lr\n",
    "        \n",
    "    def training_step(self, batch: dict[str, Tensor], batch_idx: int) -> STEP_OUTPUT:\n",
    "        loss = self.model(input_ids=batch[\"input_ids\"], attention_mask=batch[\"attention_mask\"], labels=batch[\"labels\"]).loss\n",
    "        self.log(\"loss\", loss, prog_bar=True)\n",
    "        return loss\n",
    "\n",
    "    def configure_optimizers(self) -> OptimizerLRScheduler:\n",
    "        return torch.optim.Adam(self.parameters(), self.lr)"
   ]
  },
  {
   "cell_type": "code",
   "execution_count": 21,
   "metadata": {},
   "outputs": [
    {
     "name": "stderr",
     "output_type": "stream",
     "text": [
      "GPU available: True (cuda), used: True\n",
      "TPU available: False, using: 0 TPU cores\n",
      "HPU available: False, using: 0 HPUs\n",
      "/home/sachaiugai/anaconda3/lib/python3.12/site-packages/lightning/pytorch/callbacks/model_checkpoint.py:654: Checkpoint directory /home/sachaiugai/Документы/Jupiter_projects/dnn-mkn-7/checkpoints exists and is not empty.\n",
      "LOCAL_RANK: 0 - CUDA_VISIBLE_DEVICES: [0]\n",
      "\n",
      "  | Name  | Type                       | Params | Mode \n",
      "-------------------------------------------------------------\n",
      "0 | model | T5ForConditionalGeneration | 60.5 M | train\n",
      "-------------------------------------------------------------\n",
      "60.5 M    Trainable params\n",
      "0         Non-trainable params\n",
      "60.5 M    Total params\n",
      "242.026   Total estimated model params size (MB)\n",
      "277       Modules in train mode\n",
      "0         Modules in eval mode\n",
      "/home/sachaiugai/anaconda3/lib/python3.12/site-packages/lightning/pytorch/trainer/connectors/data_connector.py:424: The 'train_dataloader' does not have many workers which may be a bottleneck. Consider increasing the value of the `num_workers` argument` to `num_workers=7` in the `DataLoader` to improve performance.\n"
     ]
    },
    {
     "data": {
      "application/vnd.jupyter.widget-view+json": {
       "model_id": "bfb303cda0344a52b9d1a160cd8a2b2f",
       "version_major": 2,
       "version_minor": 0
      },
      "text/plain": [
       "Training: |          | 0/? [00:00<?, ?it/s]"
      ]
     },
     "metadata": {},
     "output_type": "display_data"
    },
    {
     "name": "stderr",
     "output_type": "stream",
     "text": [
      "Passing a tuple of `past_key_values` is deprecated and will be removed in Transformers v4.48.0. You should pass an instance of `EncoderDecoderCache` instead, e.g. `past_key_values=EncoderDecoderCache.from_legacy_cache(past_key_values)`.\n",
      "`Trainer.fit` stopped: `max_epochs=1` reached.\n"
     ]
    }
   ],
   "source": [
    "trainer = L.Trainer(\n",
    "    accelerator=\"auto\", max_epochs=1, limit_train_batches=10, logger=False\n",
    ")\n",
    "seq2seq = Seq2Seq(t5, multi30k.tokenizer, lr=0.001)\n",
    "seq2seq.train()\n",
    "trainer.fit(model=seq2seq, datamodule=multi30k)"
   ]
  },
  {
   "cell_type": "markdown",
   "metadata": {},
   "source": [
    "#### Задание 3 (3 балла). Генерация перевода\n",
    "\n",
    "Сгенерируйте перевод для одного батча из тестового датасета (используйте метод `t5.generate()`), используя разные стратегии декодирования:\n",
    "- *greedy decoding*\n",
    "- *multinomial sampling*\n",
    "- *beam-search multinomial sampling*\n",
    "\n",
    "Эти стратегии (а также другие стратегии декодирования) можно задавать через `transformers.GenerationConfig`, который можно передать в метод `.generate()` нашей модели.\n",
    "Выберите параметры, которые, на ваш взгляд, работают лучше всего."
   ]
  },
  {
   "cell_type": "code",
   "execution_count": 41,
   "metadata": {},
   "outputs": [],
   "source": [
    "from transformers import GenerationConfig\n",
    "\n",
    "# пример конфигурации\n",
    "gen_conf = GenerationConfig(\n",
    "    min_length=10,\n",
    "    max_new_tokens=20,\n",
    "    num_beams=5,\n",
    "    do_sample=True,\n",
    "    temperature=1.0,\n",
    "    top_p=0.9,\n",
    "    top_k=0\n",
    ")"
   ]
  },
  {
   "cell_type": "code",
   "execution_count": 112,
   "metadata": {},
   "outputs": [],
   "source": [
    "# greedy decoding\n",
    "gen_conf_greedy_decoding = GenerationConfig(\n",
    "    min_length=10,\n",
    "    max_new_tokens=20,\n",
    ")\n",
    "\n",
    "# multinomial sampling\n",
    "gen_conf_multinomial_sampling = GenerationConfig(\n",
    "    min_length=10,\n",
    "    max_new_tokens=20,\n",
    "    do_sample=True,\n",
    "    temperature=0.6,\n",
    "    top_p=0.9\n",
    ")\n",
    "\n",
    "# beam-search multinomial sampling\n",
    "gen_conf_beam_search_multinomial_sampling = GenerationConfig(\n",
    "    min_length=10,\n",
    "    max_new_tokens=20,\n",
    "    do_sample=True,\n",
    "    temperature=0.6,\n",
    "    top_p=0.9,\n",
    "    num_beams=5\n",
    ")\n",
    "\n",
    "# my_gen_config\n",
    "my_gen_conf = GenerationConfig(\n",
    "    min_length=10,\n",
    "    max_new_tokens=20,\n",
    "    do_sample=True,\n",
    "    temperature=0.6,\n",
    "    top_p=0.9,\n",
    "    no_repeat_ngram_size=2\n",
    "    \n",
    ")"
   ]
  },
  {
   "cell_type": "code",
   "execution_count": 113,
   "metadata": {},
   "outputs": [
    {
     "name": "stdout",
     "output_type": "stream",
     "text": [
      "Deutsch: Leute Reparieren das Dach eines Hauses.\n",
      "English: People are fixing the roof of a house.\n",
      "Translation(greedy decoding): people are rearranging the roof..\n",
      "Translation(multinomial sampling): People in a home.com Leute who are looking for the\n",
      "Translation(beam-search multinomial sampling): Menschen reparieren das Dach eines Hauses.\n",
      "Translation(my): People doing the same thing in homes.com.\n",
      "\n",
      "Deutsch: Ein Typ arbeitet an einem Gebäude.\n",
      "English: A guy works on a building.\n",
      "Translation(greedy decoding): Ein Typ arbeitet in a building.Important An individual is working on a building\n",
      "Translation(multinomial sampling): A type works on a building.\n",
      "Translation(beam-search multinomial sampling): A type of building.\n",
      "Translation(my): The Typ works in a building..\n",
      "\n",
      "Deutsch: Drei Leute sitzen in einer Höhle.\n",
      "English: Three people sit in a cave.\n",
      "Translation(greedy decoding): \n",
      "Translation(multinomial sampling): Sitting three people in a window.\n",
      "Translation(beam-search multinomial sampling): Drei Leute sitzen in a Höhle.\n",
      "Translation(my): In a dark room, people are sitting in höhle.\n",
      "\n",
      "Deutsch: Leute, die vor einem Gebäude stehen.\n",
      "English: People standing outside of a building.\n",
      "Translation(greedy decoding): people who are in a building.  Leute\n",
      "Translation(multinomial sampling): people, in a building. a man, and\n",
      "Translation(beam-search multinomial sampling): Menschen, die vor einem Gebäude stehen. Leute, die vor einem Gebäude\n",
      "Translation(my): People, the people who are standing in front of a building.\n",
      "\n",
      "Deutsch: Ein Mann schneidet ste von Bäumen.\n",
      "English: A man cutting branches of trees.\n",
      "Translation(greedy decoding): Ein Mann schneidetnga ste of trees\n",
      "Translation(multinomial sampling): A man holding a tree.\n",
      "Translation(beam-search multinomial sampling): Ein Mann schneidet ste von Bäumen.\n",
      "Translation(my): A man who is in the trees.\n",
      "\n",
      "Deutsch: Frauen, die traditionelle Kleidung tragen, spielen das Leben Einheimischer nach.\n",
      "English: Women, wearing traditional clothing, are reenacting native life.\n",
      "Translation(greedy decoding): women, the traditionelle clothing worn by women, playing the life of a man\n",
      "Translation(multinomial sampling): Frauen wearing traditional clothing play the life. The girls are dressed up in the closet.\n",
      "Translation(beam-search multinomial sampling): Frauen, die traditionelle Kleidung, spielen das Leben Einheimischer nach.\n",
      "Translation(my): Women are wearing traditional clothing, a home tucking and dressing in the room.\n",
      "\n",
      "Deutsch: Ein Kind planscht im Wasser.\n",
      "English: A child is splashing in the water\n",
      "Translation(greedy decoding): A child plans to swim in water. Ein kind of\n",
      "Translation(multinomial sampling): Dien einen eenplanacht in Wasser.\n",
      "Translation(beam-search multinomial sampling): The child plans to swim in water..\n",
      "Translation(my): salopes are a baby planningte in water.\n",
      "\n",
      "Deutsch: Eine schöne Frau spielt auf einer Harfe.\n",
      "English: A pretty woman plays a harpsichord.\n",
      "Translation(greedy decoding): Une belle Fraudinga a woman.\n",
      "Translation(multinomial sampling): One smiling woman playing in a hare.\n",
      "Translation(beam-search multinomial sampling): Eine schöne Frau spielt spielt auf a dog.\n",
      "Translation(my): Eine schöne Frau spielt in a chair.\n",
      "\n",
      "Deutsch: Die junge Dame sieht auf die Pizza.\n",
      "English: The young lady is looking at the pizza.\n",
      "Translation(greedy decoding): The young lady looks on the pizza.\n",
      "Translation(multinomial sampling): Die junge Dame sieht auf die Pizza.\n",
      "Translation(beam-search multinomial sampling): a young lady is dressed in a pizza.\n",
      "Translation(my): Ein jungesDamedall hat diesse in a pizza.\n",
      "\n",
      "Deutsch: Leute sitzen in einem Zug.\n",
      "English: People sit inside a train.\n",
      "Translation(greedy decoding): people sitting in a train.  people sitting in\n",
      "Translation(multinomial sampling): Leute sitzen in a cab.\n",
      "Translation(beam-search multinomial sampling): Menschen in a Zug sitzen in a train.\n",
      "Translation(my): people sitting in a Zug.com.\n",
      "\n",
      "Deutsch: Ein kleines Kind kocht mit einer anderen Person.\n",
      "English: A toddler is cooking with another person.\n",
      "Translation(greedy decoding): La petite petite personne s'enrône dans un autre endroit.\n",
      "Translation(multinomial sampling): Die kleine Kindkocht mit einer anderen Person.\n",
      "Translation(beam-search multinomial sampling): A small kid kocht with another person.\n",
      "Translation(my): Es a small girl cooks with another person.\n",
      "\n",
      "Deutsch: Ein Mann bereitet am Herd Essen zu.\n",
      "English: A man cooking food on the stove.\n",
      "Translation(greedy decoding): A man is prepared to greet the woman holding herd's food.\n",
      "Translation(multinomial sampling): Ein Mann bereitet am Herd Essen zu.\n",
      "Translation(beam-search multinomial sampling): Ein Mann bereitet am Herd Essen zu.\n",
      "Translation(my): Ein Mann is prepared to go to the Herd.\n",
      "\n"
     ]
    }
   ],
   "source": [
    "batch = next(iter(multi30k.test_dataloader()))\n",
    "preds1 = t5.generate(batch[\"input_ids\"], generation_config=gen_conf_greedy_decoding)\n",
    "preds2 = t5.generate(batch[\"input_ids\"], generation_config=gen_conf_multinomial_sampling)\n",
    "preds3 = t5.generate(batch[\"input_ids\"], generation_config=gen_conf_beam_search_multinomial_sampling)\n",
    "preds4 = t5.generate(batch[\"input_ids\"], generation_config=my_gen_conf)\n",
    "\n",
    "for i in range(multi30k.batch_size):\n",
    "# декодируем входы, правильный и сгенерированный перевод с помощью токенизатора и выводим\n",
    "    print(f\"Deutsch: {tokenizer.decode(batch[\"input_ids\"][i], skip_special_tokens=True)}\")\n",
    "    print(f\"English: {tokenizer.decode(batch[\"labels\"][i], skip_special_tokens=True)}\")\n",
    "    print(f\"Translation(greedy decoding): {tokenizer.decode(preds1[i], skip_special_tokens=True)}\")\n",
    "    print(f\"Translation(multinomial sampling): {tokenizer.decode(preds2[i], skip_special_tokens=True)}\")\n",
    "    print(f\"Translation(beam-search multinomial sampling): {tokenizer.decode(preds3[i], skip_special_tokens=True)}\")\n",
    "    print(f\"Translation(my): {tokenizer.decode(preds4[i], skip_special_tokens=True)}\\n\")"
   ]
  }
 ],
 "metadata": {
  "kernelspec": {
   "display_name": "Python 3 (ipykernel)",
   "language": "python",
   "name": "python3"
  },
  "language_info": {
   "codemirror_mode": {
    "name": "ipython",
    "version": 3
   },
   "file_extension": ".py",
   "mimetype": "text/x-python",
   "name": "python",
   "nbconvert_exporter": "python",
   "pygments_lexer": "ipython3",
   "version": "3.12.2"
  }
 },
 "nbformat": 4,
 "nbformat_minor": 4
}
